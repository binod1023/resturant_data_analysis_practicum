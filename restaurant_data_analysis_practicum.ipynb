{
 "cells": [
  {
   "cell_type": "markdown",
   "id": "31a4c4a1",
   "metadata": {},
   "source": [
    "## Data Analysis of Resturant Business"
   ]
  },
  {
   "cell_type": "markdown",
   "id": "a099bf6b",
   "metadata": {},
   "source": [
    "#### Introduction\n",
    "In this project, market data analysis of resturant business of LA region will be done. The data on this project is collected from open sources. A business team is going to start a new resturant in this area. Through this analysis we are going to find what types of resturant needs to be started in LA region.\n",
    "On this project we will answer some questions which are required to make conclusion on what types of restaurant is needed to be build in this region."
   ]
  },
  {
   "cell_type": "markdown",
   "id": "720291db",
   "metadata": {},
   "source": [
    "### Data Collection and General Information"
   ]
  },
  {
   "cell_type": "code",
   "execution_count": 2,
   "id": "d59a1b54",
   "metadata": {},
   "outputs": [],
   "source": [
    "# importing librabries\n",
    "import pandas as pd\n",
    "import numpy as np\n",
    "import math\n",
    "from scipy import stats\n",
    "from matplotlib import pyplot as plt\n",
    "import seaborn as sns"
   ]
  },
  {
   "cell_type": "code",
   "execution_count": 3,
   "id": "b4943d27",
   "metadata": {},
   "outputs": [],
   "source": [
    "# importing data\n",
    "try:\n",
    "    rest_data=pd.read_csv(\"/datasets/rest_data_us.csv\")\n",
    "except:\n",
    "    rest_data=pd.read_csv(\"rest_data_us.csv\")"
   ]
  },
  {
   "cell_type": "code",
   "execution_count": 4,
   "id": "e94433d6",
   "metadata": {},
   "outputs": [
    {
     "data": {
      "text/html": [
       "<div>\n",
       "<style scoped>\n",
       "    .dataframe tbody tr th:only-of-type {\n",
       "        vertical-align: middle;\n",
       "    }\n",
       "\n",
       "    .dataframe tbody tr th {\n",
       "        vertical-align: top;\n",
       "    }\n",
       "\n",
       "    .dataframe thead th {\n",
       "        text-align: right;\n",
       "    }\n",
       "</style>\n",
       "<table border=\"1\" class=\"dataframe\">\n",
       "  <thead>\n",
       "    <tr style=\"text-align: right;\">\n",
       "      <th></th>\n",
       "      <th>id</th>\n",
       "      <th>object_name</th>\n",
       "      <th>address</th>\n",
       "      <th>chain</th>\n",
       "      <th>object_type</th>\n",
       "      <th>number</th>\n",
       "    </tr>\n",
       "  </thead>\n",
       "  <tbody>\n",
       "    <tr>\n",
       "      <th>0</th>\n",
       "      <td>11786</td>\n",
       "      <td>HABITAT COFFEE SHOP</td>\n",
       "      <td>3708 N EAGLE ROCK BLVD</td>\n",
       "      <td>False</td>\n",
       "      <td>Cafe</td>\n",
       "      <td>26</td>\n",
       "    </tr>\n",
       "    <tr>\n",
       "      <th>1</th>\n",
       "      <td>11787</td>\n",
       "      <td>REILLY'S</td>\n",
       "      <td>100 WORLD WAY # 120</td>\n",
       "      <td>False</td>\n",
       "      <td>Restaurant</td>\n",
       "      <td>9</td>\n",
       "    </tr>\n",
       "    <tr>\n",
       "      <th>2</th>\n",
       "      <td>11788</td>\n",
       "      <td>STREET CHURROS</td>\n",
       "      <td>6801 HOLLYWOOD BLVD # 253</td>\n",
       "      <td>False</td>\n",
       "      <td>Fast Food</td>\n",
       "      <td>20</td>\n",
       "    </tr>\n",
       "    <tr>\n",
       "      <th>3</th>\n",
       "      <td>11789</td>\n",
       "      <td>TRINITI ECHO PARK</td>\n",
       "      <td>1814 W SUNSET BLVD</td>\n",
       "      <td>False</td>\n",
       "      <td>Restaurant</td>\n",
       "      <td>22</td>\n",
       "    </tr>\n",
       "    <tr>\n",
       "      <th>4</th>\n",
       "      <td>11790</td>\n",
       "      <td>POLLEN</td>\n",
       "      <td>2100 ECHO PARK AVE</td>\n",
       "      <td>False</td>\n",
       "      <td>Restaurant</td>\n",
       "      <td>20</td>\n",
       "    </tr>\n",
       "  </tbody>\n",
       "</table>\n",
       "</div>"
      ],
      "text/plain": [
       "      id          object_name                    address  chain object_type  \\\n",
       "0  11786  HABITAT COFFEE SHOP     3708 N EAGLE ROCK BLVD  False        Cafe   \n",
       "1  11787             REILLY'S        100 WORLD WAY # 120  False  Restaurant   \n",
       "2  11788       STREET CHURROS  6801 HOLLYWOOD BLVD # 253  False   Fast Food   \n",
       "3  11789    TRINITI ECHO PARK         1814 W SUNSET BLVD  False  Restaurant   \n",
       "4  11790               POLLEN         2100 ECHO PARK AVE  False  Restaurant   \n",
       "\n",
       "   number  \n",
       "0      26  \n",
       "1       9  \n",
       "2      20  \n",
       "3      22  \n",
       "4      20  "
      ]
     },
     "execution_count": 4,
     "metadata": {},
     "output_type": "execute_result"
    }
   ],
   "source": [
    "# Sample data\n",
    "rest_data.head()"
   ]
  },
  {
   "cell_type": "code",
   "execution_count": 5,
   "id": "9fe52305",
   "metadata": {},
   "outputs": [
    {
     "name": "stdout",
     "output_type": "stream",
     "text": [
      "<class 'pandas.core.frame.DataFrame'>\n",
      "RangeIndex: 9651 entries, 0 to 9650\n",
      "Data columns (total 6 columns):\n",
      " #   Column       Non-Null Count  Dtype \n",
      "---  ------       --------------  ----- \n",
      " 0   id           9651 non-null   int64 \n",
      " 1   object_name  9651 non-null   object\n",
      " 2   address      9651 non-null   object\n",
      " 3   chain        9648 non-null   object\n",
      " 4   object_type  9651 non-null   object\n",
      " 5   number       9651 non-null   int64 \n",
      "dtypes: int64(2), object(4)\n",
      "memory usage: 452.5+ KB\n"
     ]
    }
   ],
   "source": [
    "# info about the data\n",
    "rest_data.info()"
   ]
  },
  {
   "cell_type": "markdown",
   "id": "f7417548",
   "metadata": {},
   "source": [
    "##### Column description"
   ]
  },
  {
   "cell_type": "markdown",
   "id": "65711d2f",
   "metadata": {},
   "source": [
    "column names and its description\n",
    "<br>\n",
    "\n",
    "object_name:   establishment name\n",
    "<br>\n",
    "\n",
    "chain: chain establishment (TRUE/FALSE)\n",
    "<br>\n",
    "\n",
    "object_type: establishment type\n",
    "<br>\n",
    "\n",
    "address: address\n",
    "<br>\n",
    "\n",
    "number: number of seats"
   ]
  },
  {
   "cell_type": "code",
   "execution_count": 6,
   "id": "3cbfab1d",
   "metadata": {},
   "outputs": [
    {
     "data": {
      "text/plain": [
       "id             0\n",
       "object_name    0\n",
       "address        0\n",
       "chain          3\n",
       "object_type    0\n",
       "number         0\n",
       "dtype: int64"
      ]
     },
     "metadata": {},
     "output_type": "display_data"
    }
   ],
   "source": [
    "# checking missing data\n",
    "display(rest_data.isnull().sum())"
   ]
  },
  {
   "cell_type": "code",
   "execution_count": 7,
   "id": "c5502682",
   "metadata": {},
   "outputs": [
    {
     "data": {
      "text/plain": [
       "0"
      ]
     },
     "metadata": {},
     "output_type": "display_data"
    }
   ],
   "source": [
    "# checking duplicate data\n",
    "display(rest_data.duplicated().sum())"
   ]
  },
  {
   "cell_type": "markdown",
   "id": "b46572c3",
   "metadata": {},
   "source": [
    "The resturant data has 3 missing data in chain column.\n",
    "<br>\n",
    "\n",
    "No duplicate data in this dataset."
   ]
  },
  {
   "cell_type": "markdown",
   "id": "f5f69f8f",
   "metadata": {},
   "source": [
    "### Data Preprocessing"
   ]
  },
  {
   "cell_type": "code",
   "execution_count": 8,
   "id": "9334c1d7",
   "metadata": {},
   "outputs": [],
   "source": [
    "# Removing missing data\n",
    "rest_data=rest_data.dropna(axis=0)"
   ]
  },
  {
   "cell_type": "code",
   "execution_count": 9,
   "id": "c1af05ef",
   "metadata": {},
   "outputs": [
    {
     "data": {
      "text/plain": [
       "id             0\n",
       "object_name    0\n",
       "address        0\n",
       "chain          0\n",
       "object_type    0\n",
       "number         0\n",
       "dtype: int64"
      ]
     },
     "execution_count": 9,
     "metadata": {},
     "output_type": "execute_result"
    }
   ],
   "source": [
    "# testing for removal of data\n",
    "rest_data.isnull().sum()"
   ]
  },
  {
   "cell_type": "code",
   "execution_count": 10,
   "id": "a833ba07",
   "metadata": {},
   "outputs": [],
   "source": [
    "# renaming column names\n",
    "rest_data=rest_data.rename(columns={\"object_name\":\"resturant_name\",\"object_type\":\"resturant_type\",\"number\":\"num_of_seats\"})"
   ]
  },
  {
   "cell_type": "code",
   "execution_count": 11,
   "id": "2aa1ff20",
   "metadata": {},
   "outputs": [],
   "source": [
    "# capitalize resturant_name\n",
    "# change resturant type to lower case\n",
    "rest_data[\"resturant_name\"]=rest_data[\"resturant_name\"].str.title()\n",
    "rest_data[\"resturant_type\"]=rest_data[\"resturant_type\"].str.lower()\n",
    "rest_data[\"address\"]=rest_data[\"address\"].str.upper()"
   ]
  },
  {
   "cell_type": "code",
   "execution_count": 12,
   "id": "e9819097",
   "metadata": {},
   "outputs": [
    {
     "name": "stdout",
     "output_type": "stream",
     "text": [
      "<class 'pandas.core.frame.DataFrame'>\n",
      "Int64Index: 9648 entries, 0 to 9650\n",
      "Data columns (total 6 columns):\n",
      " #   Column          Non-Null Count  Dtype \n",
      "---  ------          --------------  ----- \n",
      " 0   id              9648 non-null   object\n",
      " 1   resturant_name  9648 non-null   object\n",
      " 2   address         9648 non-null   object\n",
      " 3   chain           9648 non-null   object\n",
      " 4   resturant_type  9648 non-null   object\n",
      " 5   num_of_seats    9648 non-null   int64 \n",
      "dtypes: int64(1), object(5)\n",
      "memory usage: 527.6+ KB\n"
     ]
    }
   ],
   "source": [
    "# changing data type\n",
    "rest_data[\"id\"]=rest_data[\"id\"].astype(object)\n",
    "rest_data.info()"
   ]
  },
  {
   "cell_type": "code",
   "execution_count": 13,
   "id": "9ddb016e",
   "metadata": {},
   "outputs": [
    {
     "data": {
      "text/html": [
       "<div>\n",
       "<style scoped>\n",
       "    .dataframe tbody tr th:only-of-type {\n",
       "        vertical-align: middle;\n",
       "    }\n",
       "\n",
       "    .dataframe tbody tr th {\n",
       "        vertical-align: top;\n",
       "    }\n",
       "\n",
       "    .dataframe thead th {\n",
       "        text-align: right;\n",
       "    }\n",
       "</style>\n",
       "<table border=\"1\" class=\"dataframe\">\n",
       "  <thead>\n",
       "    <tr style=\"text-align: right;\">\n",
       "      <th></th>\n",
       "      <th>id</th>\n",
       "      <th>resturant_name</th>\n",
       "      <th>address</th>\n",
       "      <th>chain</th>\n",
       "      <th>resturant_type</th>\n",
       "      <th>num_of_seats</th>\n",
       "    </tr>\n",
       "  </thead>\n",
       "  <tbody>\n",
       "    <tr>\n",
       "      <th>0</th>\n",
       "      <td>11786</td>\n",
       "      <td>Habitat Coffee Shop</td>\n",
       "      <td>3708 N EAGLE ROCK BLVD</td>\n",
       "      <td>False</td>\n",
       "      <td>cafe</td>\n",
       "      <td>26</td>\n",
       "    </tr>\n",
       "    <tr>\n",
       "      <th>1</th>\n",
       "      <td>11787</td>\n",
       "      <td>Reilly'S</td>\n",
       "      <td>100 WORLD WAY # 120</td>\n",
       "      <td>False</td>\n",
       "      <td>restaurant</td>\n",
       "      <td>9</td>\n",
       "    </tr>\n",
       "    <tr>\n",
       "      <th>2</th>\n",
       "      <td>11788</td>\n",
       "      <td>Street Churros</td>\n",
       "      <td>6801 HOLLYWOOD BLVD # 253</td>\n",
       "      <td>False</td>\n",
       "      <td>fast food</td>\n",
       "      <td>20</td>\n",
       "    </tr>\n",
       "    <tr>\n",
       "      <th>3</th>\n",
       "      <td>11789</td>\n",
       "      <td>Triniti Echo Park</td>\n",
       "      <td>1814 W SUNSET BLVD</td>\n",
       "      <td>False</td>\n",
       "      <td>restaurant</td>\n",
       "      <td>22</td>\n",
       "    </tr>\n",
       "    <tr>\n",
       "      <th>4</th>\n",
       "      <td>11790</td>\n",
       "      <td>Pollen</td>\n",
       "      <td>2100 ECHO PARK AVE</td>\n",
       "      <td>False</td>\n",
       "      <td>restaurant</td>\n",
       "      <td>20</td>\n",
       "    </tr>\n",
       "  </tbody>\n",
       "</table>\n",
       "</div>"
      ],
      "text/plain": [
       "      id       resturant_name                    address  chain  \\\n",
       "0  11786  Habitat Coffee Shop     3708 N EAGLE ROCK BLVD  False   \n",
       "1  11787             Reilly'S        100 WORLD WAY # 120  False   \n",
       "2  11788       Street Churros  6801 HOLLYWOOD BLVD # 253  False   \n",
       "3  11789    Triniti Echo Park         1814 W SUNSET BLVD  False   \n",
       "4  11790               Pollen         2100 ECHO PARK AVE  False   \n",
       "\n",
       "  resturant_type  num_of_seats  \n",
       "0           cafe            26  \n",
       "1     restaurant             9  \n",
       "2      fast food            20  \n",
       "3     restaurant            22  \n",
       "4     restaurant            20  "
      ]
     },
     "execution_count": 13,
     "metadata": {},
     "output_type": "execute_result"
    }
   ],
   "source": [
    "rest_data.head(5)"
   ]
  },
  {
   "cell_type": "markdown",
   "id": "ce8e7670",
   "metadata": {},
   "source": [
    "Missing values are removed.\n",
    "<br>\n",
    "Meaningful column names are used.\n",
    "<br>\n",
    "Values in resturant name column are changed to title case.\n",
    "<br>\n",
    "values in resturant name column are changed to lower case."
   ]
  },
  {
   "cell_type": "code",
   "execution_count": 14,
   "id": "7792bb72",
   "metadata": {},
   "outputs": [],
   "source": [
    "# removing apt number, unit number, suit number and get building number and street address\n",
    "# get all addresses\n",
    "# make a list of empty named cleaned_address\n",
    "# make list of street ending name\n",
    "# end each address at item of street endin name list and append it to cleaned address\n",
    "\n",
    "addresses = rest_data.address.values\n",
    "cleaned_addresses =[]\n",
    "street_end_name_list = ['WAY','RD','AVE','BLVD','ST','HWY','BROADWAY','PLZ','AVENUE','DR','PKWY','PARK','PL','CT']\n",
    "count=0\n",
    "for address in addresses:\n",
    "    split_address = address.split()\n",
    "    flag =0\n",
    "    for index,address_part in enumerate(split_address):\n",
    "        for street_end_name in street_end_name_list:\n",
    "            if street_end_name==address_part:\n",
    "                cleaned_addresses.append(' '.join(split_address[:index+1]))\n",
    "                flag =1\n",
    "        if flag ==1:\n",
    "            break   \n",
    "    if flag==0:\n",
    "        cleaned_addresses.append(address)\n",
    "\n",
    "addresses = cleaned_addresses \n"
   ]
  },
  {
   "cell_type": "code",
   "execution_count": 15,
   "id": "7aab4600",
   "metadata": {},
   "outputs": [],
   "source": [
    "# addresses = rest_data.address.values\n",
    "# cleaned_addresses =[]\n",
    "# for address in addresses:\n",
    "#     split_address = address.split()\n",
    "#     last_word = split_address[-1]\n",
    "#     if last_word.isnumeric():\n",
    "#         cleaned_addresses.append(' '.join(split_address[:-1]))\n",
    "#     else:\n",
    "#         cleaned_addresses.append(' '.join(split_address))\n",
    "# addresses = cleaned_addresses \n",
    "# addresses\n",
    "# cleaned_addresses =[]\n",
    "# for address in addresses:\n",
    "#     split_address = address.split()\n",
    "#     last_word = split_address[-1]\n",
    "#     if last_word=='STE' or  last_word=='UNIT':\n",
    "#         cleaned_addresses.append(' '.join(split_address[:-1]))\n",
    "#     else:\n",
    "#         cleaned_addresses.append(' '.join(split_address))\n",
    "# addresses = cleaned_addresses \n",
    "# addresses"
   ]
  },
  {
   "cell_type": "code",
   "execution_count": 16,
   "id": "240206f8",
   "metadata": {},
   "outputs": [],
   "source": [
    "# assigned cleaned_addresses to column street_address\n",
    "rest_data[\"address\"]=cleaned_addresses"
   ]
  },
  {
   "cell_type": "code",
   "execution_count": 17,
   "id": "a20ec49e",
   "metadata": {
    "scrolled": false
   },
   "outputs": [
    {
     "data": {
      "text/html": [
       "<div>\n",
       "<style scoped>\n",
       "    .dataframe tbody tr th:only-of-type {\n",
       "        vertical-align: middle;\n",
       "    }\n",
       "\n",
       "    .dataframe tbody tr th {\n",
       "        vertical-align: top;\n",
       "    }\n",
       "\n",
       "    .dataframe thead th {\n",
       "        text-align: right;\n",
       "    }\n",
       "</style>\n",
       "<table border=\"1\" class=\"dataframe\">\n",
       "  <thead>\n",
       "    <tr style=\"text-align: right;\">\n",
       "      <th></th>\n",
       "      <th>id</th>\n",
       "      <th>resturant_name</th>\n",
       "      <th>address</th>\n",
       "      <th>chain</th>\n",
       "      <th>resturant_type</th>\n",
       "      <th>num_of_seats</th>\n",
       "    </tr>\n",
       "  </thead>\n",
       "  <tbody>\n",
       "    <tr>\n",
       "      <th>0</th>\n",
       "      <td>11786</td>\n",
       "      <td>Habitat Coffee Shop</td>\n",
       "      <td>3708 N EAGLE ROCK BLVD</td>\n",
       "      <td>False</td>\n",
       "      <td>cafe</td>\n",
       "      <td>26</td>\n",
       "    </tr>\n",
       "    <tr>\n",
       "      <th>1</th>\n",
       "      <td>11787</td>\n",
       "      <td>Reilly'S</td>\n",
       "      <td>100 WORLD WAY</td>\n",
       "      <td>False</td>\n",
       "      <td>restaurant</td>\n",
       "      <td>9</td>\n",
       "    </tr>\n",
       "    <tr>\n",
       "      <th>2</th>\n",
       "      <td>11788</td>\n",
       "      <td>Street Churros</td>\n",
       "      <td>6801 HOLLYWOOD BLVD</td>\n",
       "      <td>False</td>\n",
       "      <td>fast food</td>\n",
       "      <td>20</td>\n",
       "    </tr>\n",
       "    <tr>\n",
       "      <th>3</th>\n",
       "      <td>11789</td>\n",
       "      <td>Triniti Echo Park</td>\n",
       "      <td>1814 W SUNSET BLVD</td>\n",
       "      <td>False</td>\n",
       "      <td>restaurant</td>\n",
       "      <td>22</td>\n",
       "    </tr>\n",
       "    <tr>\n",
       "      <th>4</th>\n",
       "      <td>11790</td>\n",
       "      <td>Pollen</td>\n",
       "      <td>2100 ECHO PARK</td>\n",
       "      <td>False</td>\n",
       "      <td>restaurant</td>\n",
       "      <td>20</td>\n",
       "    </tr>\n",
       "    <tr>\n",
       "      <th>5</th>\n",
       "      <td>11791</td>\n",
       "      <td>The Spot Grill</td>\n",
       "      <td>10004 NATIONAL BLVD</td>\n",
       "      <td>False</td>\n",
       "      <td>restaurant</td>\n",
       "      <td>14</td>\n",
       "    </tr>\n",
       "    <tr>\n",
       "      <th>6</th>\n",
       "      <td>11792</td>\n",
       "      <td>Cpk</td>\n",
       "      <td>100 WORLD WAY</td>\n",
       "      <td>False</td>\n",
       "      <td>restaurant</td>\n",
       "      <td>100</td>\n",
       "    </tr>\n",
       "    <tr>\n",
       "      <th>7</th>\n",
       "      <td>11793</td>\n",
       "      <td>Pho Lala</td>\n",
       "      <td>3500 W 6TH ST</td>\n",
       "      <td>False</td>\n",
       "      <td>restaurant</td>\n",
       "      <td>7</td>\n",
       "    </tr>\n",
       "    <tr>\n",
       "      <th>8</th>\n",
       "      <td>11794</td>\n",
       "      <td>Abc Donuts</td>\n",
       "      <td>3027 N SAN FERNANDO RD</td>\n",
       "      <td>True</td>\n",
       "      <td>fast food</td>\n",
       "      <td>1</td>\n",
       "    </tr>\n",
       "    <tr>\n",
       "      <th>9</th>\n",
       "      <td>11795</td>\n",
       "      <td>Upstairs</td>\n",
       "      <td>3707 N CAHUENGA BLVD</td>\n",
       "      <td>False</td>\n",
       "      <td>restaurant</td>\n",
       "      <td>35</td>\n",
       "    </tr>\n",
       "  </tbody>\n",
       "</table>\n",
       "</div>"
      ],
      "text/plain": [
       "      id       resturant_name                 address  chain resturant_type  \\\n",
       "0  11786  Habitat Coffee Shop  3708 N EAGLE ROCK BLVD  False           cafe   \n",
       "1  11787             Reilly'S           100 WORLD WAY  False     restaurant   \n",
       "2  11788       Street Churros     6801 HOLLYWOOD BLVD  False      fast food   \n",
       "3  11789    Triniti Echo Park      1814 W SUNSET BLVD  False     restaurant   \n",
       "4  11790               Pollen          2100 ECHO PARK  False     restaurant   \n",
       "5  11791       The Spot Grill     10004 NATIONAL BLVD  False     restaurant   \n",
       "6  11792                  Cpk           100 WORLD WAY  False     restaurant   \n",
       "7  11793             Pho Lala           3500 W 6TH ST  False     restaurant   \n",
       "8  11794           Abc Donuts  3027 N SAN FERNANDO RD   True      fast food   \n",
       "9  11795             Upstairs    3707 N CAHUENGA BLVD  False     restaurant   \n",
       "\n",
       "   num_of_seats  \n",
       "0            26  \n",
       "1             9  \n",
       "2            20  \n",
       "3            22  \n",
       "4            20  \n",
       "5            14  \n",
       "6           100  \n",
       "7             7  \n",
       "8             1  \n",
       "9            35  "
      ]
     },
     "execution_count": 17,
     "metadata": {},
     "output_type": "execute_result"
    }
   ],
   "source": [
    "rest_data.head(10)"
   ]
  },
  {
   "cell_type": "code",
   "execution_count": 18,
   "id": "de86f393",
   "metadata": {},
   "outputs": [
    {
     "data": {
      "text/html": [
       "<div>\n",
       "<style scoped>\n",
       "    .dataframe tbody tr th:only-of-type {\n",
       "        vertical-align: middle;\n",
       "    }\n",
       "\n",
       "    .dataframe tbody tr th {\n",
       "        vertical-align: top;\n",
       "    }\n",
       "\n",
       "    .dataframe thead th {\n",
       "        text-align: right;\n",
       "    }\n",
       "</style>\n",
       "<table border=\"1\" class=\"dataframe\">\n",
       "  <thead>\n",
       "    <tr style=\"text-align: right;\">\n",
       "      <th></th>\n",
       "      <th>id</th>\n",
       "      <th>resturant_name</th>\n",
       "      <th>address</th>\n",
       "      <th>chain</th>\n",
       "      <th>resturant_type</th>\n",
       "      <th>num_of_seats</th>\n",
       "      <th>building_number</th>\n",
       "      <th>street_address</th>\n",
       "    </tr>\n",
       "  </thead>\n",
       "  <tbody>\n",
       "    <tr>\n",
       "      <th>0</th>\n",
       "      <td>11786</td>\n",
       "      <td>Habitat Coffee Shop</td>\n",
       "      <td>3708 N EAGLE ROCK BLVD</td>\n",
       "      <td>False</td>\n",
       "      <td>cafe</td>\n",
       "      <td>26</td>\n",
       "      <td>3708</td>\n",
       "      <td>N EAGLE ROCK BLVD</td>\n",
       "    </tr>\n",
       "    <tr>\n",
       "      <th>1</th>\n",
       "      <td>11787</td>\n",
       "      <td>Reilly'S</td>\n",
       "      <td>100 WORLD WAY</td>\n",
       "      <td>False</td>\n",
       "      <td>restaurant</td>\n",
       "      <td>9</td>\n",
       "      <td>100</td>\n",
       "      <td>WORLD WAY</td>\n",
       "    </tr>\n",
       "    <tr>\n",
       "      <th>2</th>\n",
       "      <td>11788</td>\n",
       "      <td>Street Churros</td>\n",
       "      <td>6801 HOLLYWOOD BLVD</td>\n",
       "      <td>False</td>\n",
       "      <td>fast food</td>\n",
       "      <td>20</td>\n",
       "      <td>6801</td>\n",
       "      <td>HOLLYWOOD BLVD</td>\n",
       "    </tr>\n",
       "    <tr>\n",
       "      <th>3</th>\n",
       "      <td>11789</td>\n",
       "      <td>Triniti Echo Park</td>\n",
       "      <td>1814 W SUNSET BLVD</td>\n",
       "      <td>False</td>\n",
       "      <td>restaurant</td>\n",
       "      <td>22</td>\n",
       "      <td>1814</td>\n",
       "      <td>W SUNSET BLVD</td>\n",
       "    </tr>\n",
       "    <tr>\n",
       "      <th>4</th>\n",
       "      <td>11790</td>\n",
       "      <td>Pollen</td>\n",
       "      <td>2100 ECHO PARK</td>\n",
       "      <td>False</td>\n",
       "      <td>restaurant</td>\n",
       "      <td>20</td>\n",
       "      <td>2100</td>\n",
       "      <td>ECHO PARK</td>\n",
       "    </tr>\n",
       "  </tbody>\n",
       "</table>\n",
       "</div>"
      ],
      "text/plain": [
       "      id       resturant_name                 address  chain resturant_type  \\\n",
       "0  11786  Habitat Coffee Shop  3708 N EAGLE ROCK BLVD  False           cafe   \n",
       "1  11787             Reilly'S           100 WORLD WAY  False     restaurant   \n",
       "2  11788       Street Churros     6801 HOLLYWOOD BLVD  False      fast food   \n",
       "3  11789    Triniti Echo Park      1814 W SUNSET BLVD  False     restaurant   \n",
       "4  11790               Pollen          2100 ECHO PARK  False     restaurant   \n",
       "\n",
       "   num_of_seats building_number     street_address  \n",
       "0            26            3708  N EAGLE ROCK BLVD  \n",
       "1             9             100          WORLD WAY  \n",
       "2            20            6801     HOLLYWOOD BLVD  \n",
       "3            22            1814      W SUNSET BLVD  \n",
       "4            20            2100          ECHO PARK  "
      ]
     },
     "execution_count": 18,
     "metadata": {},
     "output_type": "execute_result"
    }
   ],
   "source": [
    "# address is splitted to building number and street address\n",
    "rest_data[[\"building_number\",\"street_address\"]]=rest_data[\"address\"].str.split(\" \",n=1,expand=True)\n",
    "rest_data.head(5)"
   ]
  },
  {
   "cell_type": "code",
   "execution_count": 19,
   "id": "859549e9",
   "metadata": {},
   "outputs": [
    {
     "name": "stdout",
     "output_type": "stream",
     "text": [
      "number of number of unique street address\n"
     ]
    },
    {
     "data": {
      "text/plain": [
       "804"
      ]
     },
     "execution_count": 19,
     "metadata": {},
     "output_type": "execute_result"
    }
   ],
   "source": [
    "# unique number of street address\n",
    "print(\"number of number of unique street address\")\n",
    "rest_data[\"street_address\"].nunique()"
   ]
  },
  {
   "cell_type": "markdown",
   "id": "508fcb51",
   "metadata": {},
   "source": [
    "Address is splitted to street address and building number"
   ]
  },
  {
   "cell_type": "markdown",
   "id": "795135ac",
   "metadata": {},
   "source": [
    "### Analyzing Resturant Data"
   ]
  },
  {
   "cell_type": "code",
   "execution_count": 20,
   "id": "ded34232",
   "metadata": {},
   "outputs": [
    {
     "data": {
      "text/plain": [
       "array(['cafe', 'restaurant', 'fast food', 'bakery', 'bar', 'pizza'],\n",
       "      dtype=object)"
      ]
     },
     "metadata": {},
     "output_type": "display_data"
    }
   ],
   "source": [
    "# types of resturant\n",
    "display(rest_data[\"resturant_type\"].unique())"
   ]
  },
  {
   "cell_type": "code",
   "execution_count": 21,
   "id": "8f59913c",
   "metadata": {},
   "outputs": [
    {
     "name": "stdout",
     "output_type": "stream",
     "text": [
      "Number of type of resturants:\n"
     ]
    },
    {
     "data": {
      "text/plain": [
       "restaurant    7253\n",
       "fast food     1066\n",
       "cafe           435\n",
       "pizza          319\n",
       "bar            292\n",
       "bakery         283\n",
       "Name: resturant_type, dtype: int64"
      ]
     },
     "execution_count": 21,
     "metadata": {},
     "output_type": "execute_result"
    }
   ],
   "source": [
    "# count of types of resturant\n",
    "print(\"Number of type of resturants:\")\n",
    "rest_data[\"resturant_type\"].value_counts()"
   ]
  },
  {
   "cell_type": "code",
   "execution_count": 22,
   "id": "79fab47f",
   "metadata": {},
   "outputs": [
    {
     "name": "stdout",
     "output_type": "stream",
     "text": [
      "Percentage of types fo resturant:\n"
     ]
    },
    {
     "data": {
      "text/plain": [
       "restaurant    75.176202\n",
       "fast food     11.048922\n",
       "cafe           4.508706\n",
       "pizza          3.306385\n",
       "bar            3.026534\n",
       "bakery         2.933250\n",
       "Name: resturant_type, dtype: float64"
      ]
     },
     "execution_count": 22,
     "metadata": {},
     "output_type": "execute_result"
    }
   ],
   "source": [
    "# percent of resturant type\n",
    "print(\"Percentage of types fo resturant:\")\n",
    "rest_data[\"resturant_type\"].value_counts(normalize=True)*100"
   ]
  },
  {
   "cell_type": "code",
   "execution_count": 23,
   "id": "5efd22e4",
   "metadata": {},
   "outputs": [
    {
     "data": {
      "image/png": "[encoded data removed]",
      "text/plain": [
       "<Figure size 640x480 with 1 Axes>"
      ]
     },
     "metadata": {},
     "output_type": "display_data"
    }
   ],
   "source": [
    "# chart of types of resturant\n",
    "rest_data['resturant_type'].value_counts(ascending=False).plot(kind='bar',rot=0)\n",
    "plt.title(\"Count of Types of Resturant\",fontsize=20)\n",
    "plt.xlabel(\"Types of Resturant\",fontsize=15)\n",
    "plt.ylabel(\"Number of Resturant\",fontsize=15)\n",
    "plt.show()"
   ]
  },
  {
   "cell_type": "markdown",
   "id": "eb0cd8ec",
   "metadata": {},
   "source": [
    "Resturant type of establishment is the leading type of resturant followed by fast food type.\n",
    "<br>\n",
    "The count of bakery, bar, pizza, and cafe combines to give 11 percent of overall resturant types. "
   ]
  },
  {
   "cell_type": "code",
   "execution_count": 24,
   "id": "fd2c66d1",
   "metadata": {},
   "outputs": [
    {
     "data": {
      "image/png": "[encoded data removed]",
      "text/plain": [
       "<Figure size 1300x800 with 1 Axes>"
      ]
     },
     "metadata": {},
     "output_type": "display_data"
    }
   ],
   "source": [
    "# Reviewer's code\n",
    "rest_data['resturant_type'].value_counts(ascending=False).plot(kind='bar', rot=0, figsize=(13, 8), fontsize=16)\n",
    "plt.title(\"Count of Types of Resturant\", fontsize=16)\n",
    "plt.xlabel(\"Types of Resturant\", fontsize=16)\n",
    "plt.ylabel(\"Number of Resturant\", fontsize=16)\n",
    "plt.show()"
   ]
  },
  {
   "cell_type": "code",
   "execution_count": 25,
   "id": "02a419d5",
   "metadata": {},
   "outputs": [],
   "source": [
    "# changing True or False to chain and non-chain\n",
    "rest_data[\"chain\"] = np.where(rest_data[\"chain\"] == True, \"chain\", \"non-chain\")"
   ]
  },
  {
   "cell_type": "code",
   "execution_count": 26,
   "id": "a490eb90",
   "metadata": {},
   "outputs": [
    {
     "data": {
      "text/plain": [
       "non-chain    5972\n",
       "chain        3676\n",
       "Name: chain, dtype: int64"
      ]
     },
     "metadata": {},
     "output_type": "display_data"
    }
   ],
   "source": [
    "# counting number of chain and non-chaing resturant\n",
    "display(rest_data[\"chain\"].value_counts())"
   ]
  },
  {
   "cell_type": "code",
   "execution_count": 27,
   "id": "e6a71d53",
   "metadata": {},
   "outputs": [
    {
     "data": {
      "text/plain": [
       "non-chain    61.898839\n",
       "chain        38.101161\n",
       "Name: chain, dtype: float64"
      ]
     },
     "metadata": {},
     "output_type": "display_data"
    }
   ],
   "source": [
    "# percentage of chain and non-chaing resturant\n",
    "display(rest_data[\"chain\"].value_counts(normalize=True)*100)"
   ]
  },
  {
   "cell_type": "code",
   "execution_count": 28,
   "id": "84ada6cc",
   "metadata": {},
   "outputs": [
    {
     "data": {
      "image/png": "[encoded data removed]",
      "text/plain": [
       "<Figure size 640x480 with 1 Axes>"
      ]
     },
     "metadata": {},
     "output_type": "display_data"
    }
   ],
   "source": [
    "# plotting chaing type resturant\n",
    "rest_data['chain'].value_counts(ascending=False).plot(kind='bar',rot=0)\n",
    "plt.title(\"Count of Chain/Non-Chain Resturant\")\n",
    "plt.xlabel(\"Chain/Non-chain Type\")\n",
    "plt.ylabel(\"Number of Resturant\")\n",
    "plt.show()"
   ]
  },
  {
   "cell_type": "code",
   "execution_count": 29,
   "id": "d8b37c2d",
   "metadata": {},
   "outputs": [
    {
     "data": {
      "image/png": "[encoded data removed]",
      "text/plain": [
       "<Figure size 640x480 with 1 Axes>"
      ]
     },
     "metadata": {},
     "output_type": "display_data"
    }
   ],
   "source": [
    "# distribution of chain and non-chain\n",
    "chain_count=rest_data[\"chain\"].value_counts()\n",
    "ax=chain_count.plot(kind=\"pie\",autopct='%1.1f%%', startangle=270, fontsize=12)\n",
    "ax.set_title(\"Distribution of Chain and Non-Chain Restaurants\")\n",
    "plt.show()"
   ]
  },
  {
   "cell_type": "markdown",
   "id": "1c8e51d6",
   "metadata": {},
   "source": [
    "It shows that number of non-chain type resturant is 22 percent higher than the chain type resturant."
   ]
  },
  {
   "cell_type": "markdown",
   "id": "7a9b474a",
   "metadata": {},
   "source": [
    "##### Which type of establishment is typically a chain?"
   ]
  },
  {
   "cell_type": "code",
   "execution_count": 29,
   "id": "c15ad282",
   "metadata": {},
   "outputs": [
    {
     "data": {
      "text/html": [
       "<div>\n",
       "<style scoped>\n",
       "    .dataframe tbody tr th:only-of-type {\n",
       "        vertical-align: middle;\n",
       "    }\n",
       "\n",
       "    .dataframe tbody tr th {\n",
       "        vertical-align: top;\n",
       "    }\n",
       "\n",
       "    .dataframe thead th {\n",
       "        text-align: right;\n",
       "    }\n",
       "</style>\n",
       "<table border=\"1\" class=\"dataframe\">\n",
       "  <thead>\n",
       "    <tr style=\"text-align: right;\">\n",
       "      <th>resturant_type</th>\n",
       "      <th>bakery</th>\n",
       "      <th>bar</th>\n",
       "      <th>cafe</th>\n",
       "      <th>fast food</th>\n",
       "      <th>pizza</th>\n",
       "      <th>restaurant</th>\n",
       "    </tr>\n",
       "    <tr>\n",
       "      <th>chain</th>\n",
       "      <th></th>\n",
       "      <th></th>\n",
       "      <th></th>\n",
       "      <th></th>\n",
       "      <th></th>\n",
       "      <th></th>\n",
       "    </tr>\n",
       "  </thead>\n",
       "  <tbody>\n",
       "    <tr>\n",
       "      <th>chain</th>\n",
       "      <td>283.0</td>\n",
       "      <td>77.0</td>\n",
       "      <td>266.0</td>\n",
       "      <td>605.0</td>\n",
       "      <td>153.0</td>\n",
       "      <td>2292.0</td>\n",
       "    </tr>\n",
       "    <tr>\n",
       "      <th>non-chain</th>\n",
       "      <td>NaN</td>\n",
       "      <td>215.0</td>\n",
       "      <td>169.0</td>\n",
       "      <td>461.0</td>\n",
       "      <td>166.0</td>\n",
       "      <td>4961.0</td>\n",
       "    </tr>\n",
       "  </tbody>\n",
       "</table>\n",
       "</div>"
      ],
      "text/plain": [
       "resturant_type  bakery    bar   cafe  fast food  pizza  restaurant\n",
       "chain                                                             \n",
       "chain            283.0   77.0  266.0      605.0  153.0      2292.0\n",
       "non-chain          NaN  215.0  169.0      461.0  166.0      4961.0"
      ]
     },
     "execution_count": 29,
     "metadata": {},
     "output_type": "execute_result"
    }
   ],
   "source": [
    "# pivot table of chain and types of establishment \n",
    "pivot_chain_non_chain_pivot=pd.pivot_table(rest_data,values=\"id\",index=\"chain\",columns=\"resturant_type\",aggfunc=\"count\")\n",
    "pivot_chain_non_chain_pivot"
   ]
  },
  {
   "cell_type": "code",
   "execution_count": 30,
   "id": "7b6b06f4",
   "metadata": {},
   "outputs": [
    {
     "data": {
      "image/png": "[encoded data removed]",
      "text/plain": [
       "<Figure size 432x288 with 1 Axes>"
      ]
     },
     "metadata": {
      "needs_background": "light"
     },
     "output_type": "display_data"
    }
   ],
   "source": [
    "sns.countplot(x='resturant_type',hue='chain',data=rest_data)\n",
    "plt.title(\"Restaurant Types in Chain vs Non-Chain Restaurant\",fontsize=15)\n",
    "plt.ylabel(\"count of restaurant types\")\n",
    "plt.show()"
   ]
  },
  {
   "cell_type": "code",
   "execution_count": 31,
   "id": "a3480e37",
   "metadata": {},
   "outputs": [
    {
     "name": "stdout",
     "output_type": "stream",
     "text": [
      "Percentage of resturant types in chain type establishment:\n"
     ]
    },
    {
     "data": {
      "text/plain": [
       "restaurant    62.35\n",
       "fast food     16.46\n",
       "bakery         7.70\n",
       "cafe           7.24\n",
       "pizza          4.16\n",
       "bar            2.09\n",
       "Name: resturant_type, dtype: float64"
      ]
     },
     "execution_count": 31,
     "metadata": {},
     "output_type": "execute_result"
    }
   ],
   "source": [
    "# getting percentage of resturant types in chain type of establishment\n",
    "# resturant of chain type\n",
    "rest_data_chain=rest_data[rest_data[\"chain\"]==\"chain\"].copy()\n",
    "print(\"Percentage of resturant types in chain type establishment:\")\n",
    "np.round(rest_data_chain[\"resturant_type\"].value_counts(normalize=True)*100,2)"
   ]
  },
  {
   "cell_type": "markdown",
   "id": "7d7c3e62",
   "metadata": {},
   "source": [
    "In chaing type of establishement the highest percent of resturant types are of resturant covering 62 percent, followed by \n",
    "fast food covering 16 percent. Bar type of establishment has the lowest number of chain resturant."
   ]
  },
  {
   "cell_type": "markdown",
   "id": "e36d593a",
   "metadata": {},
   "source": [
    "##### What characterizes chains: many establishments with a small number of seats or a few establishments with a lot of seats?"
   ]
  },
  {
   "cell_type": "code",
   "execution_count": 32,
   "id": "76be7b13",
   "metadata": {},
   "outputs": [],
   "source": [
    "# non-chain data frame\n",
    "rest_data_non_chain=rest_data[rest_data[\"chain\"]==\"non-chain\"].copy()"
   ]
  },
  {
   "cell_type": "code",
   "execution_count": 33,
   "id": "dc97ca3d",
   "metadata": {},
   "outputs": [],
   "source": [
    "# removing branch numbers from the establishment's name\n",
    "rest_data_chain['resturant_name'] =rest_data_chain.resturant_name.str.split('#',expand=True)[0]"
   ]
  },
  {
   "cell_type": "code",
   "execution_count": 34,
   "id": "f567a2ae",
   "metadata": {},
   "outputs": [
    {
     "name": "stdout",
     "output_type": "stream",
     "text": [
      "Average number of resturant for each non-chain resturant\n"
     ]
    },
    {
     "data": {
      "text/plain": [
       "1.7"
      ]
     },
     "execution_count": 34,
     "metadata": {},
     "output_type": "execute_result"
    }
   ],
   "source": [
    "# Average number of establiments for each chain resturant\n",
    "print(\"Average number of resturant for each non-chain resturant\")\n",
    "np.round(rest_data_chain.groupby(\"resturant_name\")[\"id\"].count().mean(),2)"
   ]
  },
  {
   "cell_type": "code",
   "execution_count": 35,
   "id": "22f92ffc",
   "metadata": {},
   "outputs": [
    {
     "name": "stdout",
     "output_type": "stream",
     "text": [
      "Average number of seats in chain resturant 39.69\n"
     ]
    }
   ],
   "source": [
    "# Average number of seats in chain establishments\n",
    "print(\"Average number of seats in chain resturant\",np.round(rest_data_chain['num_of_seats'].mean(),2))"
   ]
  },
  {
   "cell_type": "code",
   "execution_count": 36,
   "id": "d2d6a8e3",
   "metadata": {},
   "outputs": [
    {
     "name": "stdout",
     "output_type": "stream",
     "text": [
      "Average number of resturant for each non-chain resturant\n"
     ]
    },
    {
     "data": {
      "text/plain": [
       "1.0"
      ]
     },
     "execution_count": 36,
     "metadata": {},
     "output_type": "execute_result"
    }
   ],
   "source": [
    "# average number of resturant for each non-chain resturant\n",
    "print(\"Average number of resturant for each non-chain resturant\")\n",
    "np.round(rest_data_non_chain.groupby(\"resturant_name\")[\"id\"].count().sort_values(ascending=False).mean(),2)"
   ]
  },
  {
   "cell_type": "code",
   "execution_count": 37,
   "id": "e58cb3e6",
   "metadata": {},
   "outputs": [
    {
     "name": "stdout",
     "output_type": "stream",
     "text": [
      "Average number of seats in non-chain resturant\n"
     ]
    },
    {
     "data": {
      "text/plain": [
       "46.17"
      ]
     },
     "execution_count": 37,
     "metadata": {},
     "output_type": "execute_result"
    }
   ],
   "source": [
    "# average number of seats in non-chain resturant\n",
    "print(\"Average number of seats in non-chain resturant\")\n",
    "np.round(rest_data_non_chain['num_of_seats'].mean(),2)"
   ]
  },
  {
   "cell_type": "code",
   "execution_count": 38,
   "id": "ca489ff7",
   "metadata": {},
   "outputs": [
    {
     "data": {
      "text/html": [
       "<div>\n",
       "<style scoped>\n",
       "    .dataframe tbody tr th:only-of-type {\n",
       "        vertical-align: middle;\n",
       "    }\n",
       "\n",
       "    .dataframe tbody tr th {\n",
       "        vertical-align: top;\n",
       "    }\n",
       "\n",
       "    .dataframe thead th {\n",
       "        text-align: right;\n",
       "    }\n",
       "</style>\n",
       "<table border=\"1\" class=\"dataframe\">\n",
       "  <thead>\n",
       "    <tr style=\"text-align: right;\">\n",
       "      <th></th>\n",
       "      <th>id</th>\n",
       "      <th>resturant_name</th>\n",
       "      <th>address</th>\n",
       "      <th>chain</th>\n",
       "      <th>resturant_type</th>\n",
       "      <th>num_of_seats</th>\n",
       "      <th>building_number</th>\n",
       "      <th>street_address</th>\n",
       "    </tr>\n",
       "  </thead>\n",
       "  <tbody>\n",
       "    <tr>\n",
       "      <th>4854</th>\n",
       "      <td>16640</td>\n",
       "      <td>Wokcano Downtown L.A.</td>\n",
       "      <td>800 W 7TH ST</td>\n",
       "      <td>non-chain</td>\n",
       "      <td>restaurant</td>\n",
       "      <td>229</td>\n",
       "      <td>800</td>\n",
       "      <td>W 7TH ST</td>\n",
       "    </tr>\n",
       "    <tr>\n",
       "      <th>4626</th>\n",
       "      <td>16412</td>\n",
       "      <td>Playhouse</td>\n",
       "      <td>6506 HOLLYWOOD BLVD</td>\n",
       "      <td>non-chain</td>\n",
       "      <td>restaurant</td>\n",
       "      <td>229</td>\n",
       "      <td>6506</td>\n",
       "      <td>HOLLYWOOD BLVD</td>\n",
       "    </tr>\n",
       "    <tr>\n",
       "      <th>3495</th>\n",
       "      <td>15281</td>\n",
       "      <td>Usc University Club</td>\n",
       "      <td>705 W 34TH ST</td>\n",
       "      <td>non-chain</td>\n",
       "      <td>restaurant</td>\n",
       "      <td>229</td>\n",
       "      <td>705</td>\n",
       "      <td>W 34TH ST</td>\n",
       "    </tr>\n",
       "    <tr>\n",
       "      <th>3277</th>\n",
       "      <td>15063</td>\n",
       "      <td>American Jewish University</td>\n",
       "      <td>15600 MULHOOLAND DR</td>\n",
       "      <td>non-chain</td>\n",
       "      <td>restaurant</td>\n",
       "      <td>229</td>\n",
       "      <td>15600</td>\n",
       "      <td>MULHOOLAND DR</td>\n",
       "    </tr>\n",
       "    <tr>\n",
       "      <th>5091</th>\n",
       "      <td>16877</td>\n",
       "      <td>Boulevard 3</td>\n",
       "      <td>6523 W SUNSET BLVD</td>\n",
       "      <td>non-chain</td>\n",
       "      <td>restaurant</td>\n",
       "      <td>229</td>\n",
       "      <td>6523</td>\n",
       "      <td>W SUNSET BLVD</td>\n",
       "    </tr>\n",
       "    <tr>\n",
       "      <th>8699</th>\n",
       "      <td>20485</td>\n",
       "      <td>Vibiana</td>\n",
       "      <td>210 S MAIN ST</td>\n",
       "      <td>non-chain</td>\n",
       "      <td>restaurant</td>\n",
       "      <td>229</td>\n",
       "      <td>210</td>\n",
       "      <td>S MAIN ST</td>\n",
       "    </tr>\n",
       "    <tr>\n",
       "      <th>1621</th>\n",
       "      <td>13407</td>\n",
       "      <td>Crowne Plaza Lax Landing</td>\n",
       "      <td>5985 W CENTURY BLVD</td>\n",
       "      <td>non-chain</td>\n",
       "      <td>restaurant</td>\n",
       "      <td>228</td>\n",
       "      <td>5985</td>\n",
       "      <td>W CENTURY BLVD</td>\n",
       "    </tr>\n",
       "    <tr>\n",
       "      <th>3332</th>\n",
       "      <td>15118</td>\n",
       "      <td>X Bound</td>\n",
       "      <td>3470 WILSHIRE BLVD</td>\n",
       "      <td>non-chain</td>\n",
       "      <td>restaurant</td>\n",
       "      <td>228</td>\n",
       "      <td>3470</td>\n",
       "      <td>WILSHIRE BLVD</td>\n",
       "    </tr>\n",
       "    <tr>\n",
       "      <th>8892</th>\n",
       "      <td>20678</td>\n",
       "      <td>Lowboy</td>\n",
       "      <td>1536 W SUNSET BLVD</td>\n",
       "      <td>non-chain</td>\n",
       "      <td>restaurant</td>\n",
       "      <td>228</td>\n",
       "      <td>1536</td>\n",
       "      <td>W SUNSET BLVD</td>\n",
       "    </tr>\n",
       "    <tr>\n",
       "      <th>8709</th>\n",
       "      <td>20495</td>\n",
       "      <td>Rejuvenate Cafe</td>\n",
       "      <td>4733 W SUNSET BLVD</td>\n",
       "      <td>non-chain</td>\n",
       "      <td>restaurant</td>\n",
       "      <td>228</td>\n",
       "      <td>4733</td>\n",
       "      <td>W SUNSET BLVD</td>\n",
       "    </tr>\n",
       "    <tr>\n",
       "      <th>5965</th>\n",
       "      <td>17751</td>\n",
       "      <td>Dreams</td>\n",
       "      <td>1717 SILVERLAKE BLVD</td>\n",
       "      <td>non-chain</td>\n",
       "      <td>restaurant</td>\n",
       "      <td>228</td>\n",
       "      <td>1717</td>\n",
       "      <td>SILVERLAKE BLVD</td>\n",
       "    </tr>\n",
       "    <tr>\n",
       "      <th>5172</th>\n",
       "      <td>16958</td>\n",
       "      <td>Gyb La, Llc</td>\n",
       "      <td>3435 WILSHIRE BLVD</td>\n",
       "      <td>non-chain</td>\n",
       "      <td>restaurant</td>\n",
       "      <td>227</td>\n",
       "      <td>3435</td>\n",
       "      <td>WILSHIRE BLVD</td>\n",
       "    </tr>\n",
       "    <tr>\n",
       "      <th>7141</th>\n",
       "      <td>18927</td>\n",
       "      <td>X Bar</td>\n",
       "      <td>2025 AVENUE</td>\n",
       "      <td>non-chain</td>\n",
       "      <td>bar</td>\n",
       "      <td>227</td>\n",
       "      <td>2025</td>\n",
       "      <td>AVENUE</td>\n",
       "    </tr>\n",
       "    <tr>\n",
       "      <th>5718</th>\n",
       "      <td>17504</td>\n",
       "      <td>City Club Of La</td>\n",
       "      <td>555 S FLOWER ST</td>\n",
       "      <td>non-chain</td>\n",
       "      <td>restaurant</td>\n",
       "      <td>227</td>\n",
       "      <td>555</td>\n",
       "      <td>S FLOWER ST</td>\n",
       "    </tr>\n",
       "    <tr>\n",
       "      <th>7691</th>\n",
       "      <td>19477</td>\n",
       "      <td>Philippe</td>\n",
       "      <td>1001 N ALAMEDA ST</td>\n",
       "      <td>non-chain</td>\n",
       "      <td>restaurant</td>\n",
       "      <td>227</td>\n",
       "      <td>1001</td>\n",
       "      <td>N ALAMEDA ST</td>\n",
       "    </tr>\n",
       "    <tr>\n",
       "      <th>637</th>\n",
       "      <td>12423</td>\n",
       "      <td>Denny'S #1865</td>\n",
       "      <td>400 N VERMONT AVE</td>\n",
       "      <td>non-chain</td>\n",
       "      <td>restaurant</td>\n",
       "      <td>227</td>\n",
       "      <td>400</td>\n",
       "      <td>N VERMONT AVE</td>\n",
       "    </tr>\n",
       "    <tr>\n",
       "      <th>6834</th>\n",
       "      <td>18620</td>\n",
       "      <td>Crazy Girls</td>\n",
       "      <td>1433 N LA BREA AVE</td>\n",
       "      <td>non-chain</td>\n",
       "      <td>restaurant</td>\n",
       "      <td>227</td>\n",
       "      <td>1433</td>\n",
       "      <td>N LA BREA AVE</td>\n",
       "    </tr>\n",
       "    <tr>\n",
       "      <th>6819</th>\n",
       "      <td>18605</td>\n",
       "      <td>Brentwood Country Club</td>\n",
       "      <td>590 S BURLINGAME AVE</td>\n",
       "      <td>non-chain</td>\n",
       "      <td>restaurant</td>\n",
       "      <td>226</td>\n",
       "      <td>590</td>\n",
       "      <td>S BURLINGAME AVE</td>\n",
       "    </tr>\n",
       "    <tr>\n",
       "      <th>3442</th>\n",
       "      <td>15228</td>\n",
       "      <td>2Nd Floor La</td>\n",
       "      <td>865 S VERMONT AVE</td>\n",
       "      <td>non-chain</td>\n",
       "      <td>restaurant</td>\n",
       "      <td>226</td>\n",
       "      <td>865</td>\n",
       "      <td>S VERMONT AVE</td>\n",
       "    </tr>\n",
       "    <tr>\n",
       "      <th>6734</th>\n",
       "      <td>18520</td>\n",
       "      <td>Union Rescue Mission</td>\n",
       "      <td>545 S SAN PEDRO ST</td>\n",
       "      <td>non-chain</td>\n",
       "      <td>restaurant</td>\n",
       "      <td>226</td>\n",
       "      <td>545</td>\n",
       "      <td>S SAN PEDRO ST</td>\n",
       "    </tr>\n",
       "    <tr>\n",
       "      <th>868</th>\n",
       "      <td>12654</td>\n",
       "      <td>Lucky Strike</td>\n",
       "      <td>800 W OLYMPIC BLVD</td>\n",
       "      <td>non-chain</td>\n",
       "      <td>restaurant</td>\n",
       "      <td>226</td>\n",
       "      <td>800</td>\n",
       "      <td>W OLYMPIC BLVD</td>\n",
       "    </tr>\n",
       "    <tr>\n",
       "      <th>4160</th>\n",
       "      <td>15946</td>\n",
       "      <td>Mckay'S</td>\n",
       "      <td>3540 S FIGUEROA ST</td>\n",
       "      <td>non-chain</td>\n",
       "      <td>restaurant</td>\n",
       "      <td>226</td>\n",
       "      <td>3540</td>\n",
       "      <td>S FIGUEROA ST</td>\n",
       "    </tr>\n",
       "    <tr>\n",
       "      <th>9252</th>\n",
       "      <td>21038</td>\n",
       "      <td>Project</td>\n",
       "      <td>6356 HOLLYWOOD BLVD</td>\n",
       "      <td>non-chain</td>\n",
       "      <td>restaurant</td>\n",
       "      <td>225</td>\n",
       "      <td>6356</td>\n",
       "      <td>HOLLYWOOD BLVD</td>\n",
       "    </tr>\n",
       "    <tr>\n",
       "      <th>2057</th>\n",
       "      <td>13843</td>\n",
       "      <td>Iii Forks</td>\n",
       "      <td>380 WORLD WAY</td>\n",
       "      <td>non-chain</td>\n",
       "      <td>restaurant</td>\n",
       "      <td>225</td>\n",
       "      <td>380</td>\n",
       "      <td>WORLD WAY</td>\n",
       "    </tr>\n",
       "    <tr>\n",
       "      <th>3537</th>\n",
       "      <td>15323</td>\n",
       "      <td>Tgi Friday'S #2498</td>\n",
       "      <td>6721 LA TIJERA BLVD</td>\n",
       "      <td>non-chain</td>\n",
       "      <td>restaurant</td>\n",
       "      <td>225</td>\n",
       "      <td>6721</td>\n",
       "      <td>LA TIJERA BLVD</td>\n",
       "    </tr>\n",
       "  </tbody>\n",
       "</table>\n",
       "</div>"
      ],
      "text/plain": [
       "         id              resturant_name               address      chain  \\\n",
       "4854  16640       Wokcano Downtown L.A.          800 W 7TH ST  non-chain   \n",
       "4626  16412                   Playhouse   6506 HOLLYWOOD BLVD  non-chain   \n",
       "3495  15281         Usc University Club         705 W 34TH ST  non-chain   \n",
       "3277  15063  American Jewish University   15600 MULHOOLAND DR  non-chain   \n",
       "5091  16877                 Boulevard 3    6523 W SUNSET BLVD  non-chain   \n",
       "8699  20485                     Vibiana         210 S MAIN ST  non-chain   \n",
       "1621  13407    Crowne Plaza Lax Landing   5985 W CENTURY BLVD  non-chain   \n",
       "3332  15118                     X Bound    3470 WILSHIRE BLVD  non-chain   \n",
       "8892  20678                      Lowboy    1536 W SUNSET BLVD  non-chain   \n",
       "8709  20495             Rejuvenate Cafe    4733 W SUNSET BLVD  non-chain   \n",
       "5965  17751                      Dreams  1717 SILVERLAKE BLVD  non-chain   \n",
       "5172  16958                 Gyb La, Llc    3435 WILSHIRE BLVD  non-chain   \n",
       "7141  18927                       X Bar           2025 AVENUE  non-chain   \n",
       "5718  17504             City Club Of La       555 S FLOWER ST  non-chain   \n",
       "7691  19477                    Philippe     1001 N ALAMEDA ST  non-chain   \n",
       "637   12423               Denny'S #1865     400 N VERMONT AVE  non-chain   \n",
       "6834  18620                 Crazy Girls    1433 N LA BREA AVE  non-chain   \n",
       "6819  18605      Brentwood Country Club  590 S BURLINGAME AVE  non-chain   \n",
       "3442  15228                2Nd Floor La     865 S VERMONT AVE  non-chain   \n",
       "6734  18520        Union Rescue Mission    545 S SAN PEDRO ST  non-chain   \n",
       "868   12654                Lucky Strike    800 W OLYMPIC BLVD  non-chain   \n",
       "4160  15946                     Mckay'S    3540 S FIGUEROA ST  non-chain   \n",
       "9252  21038                     Project   6356 HOLLYWOOD BLVD  non-chain   \n",
       "2057  13843                   Iii Forks         380 WORLD WAY  non-chain   \n",
       "3537  15323          Tgi Friday'S #2498   6721 LA TIJERA BLVD  non-chain   \n",
       "\n",
       "     resturant_type  num_of_seats building_number    street_address  \n",
       "4854     restaurant           229             800          W 7TH ST  \n",
       "4626     restaurant           229            6506    HOLLYWOOD BLVD  \n",
       "3495     restaurant           229             705         W 34TH ST  \n",
       "3277     restaurant           229           15600     MULHOOLAND DR  \n",
       "5091     restaurant           229            6523     W SUNSET BLVD  \n",
       "8699     restaurant           229             210         S MAIN ST  \n",
       "1621     restaurant           228            5985    W CENTURY BLVD  \n",
       "3332     restaurant           228            3470     WILSHIRE BLVD  \n",
       "8892     restaurant           228            1536     W SUNSET BLVD  \n",
       "8709     restaurant           228            4733     W SUNSET BLVD  \n",
       "5965     restaurant           228            1717   SILVERLAKE BLVD  \n",
       "5172     restaurant           227            3435     WILSHIRE BLVD  \n",
       "7141            bar           227            2025            AVENUE  \n",
       "5718     restaurant           227             555       S FLOWER ST  \n",
       "7691     restaurant           227            1001      N ALAMEDA ST  \n",
       "637      restaurant           227             400     N VERMONT AVE  \n",
       "6834     restaurant           227            1433     N LA BREA AVE  \n",
       "6819     restaurant           226             590  S BURLINGAME AVE  \n",
       "3442     restaurant           226             865     S VERMONT AVE  \n",
       "6734     restaurant           226             545    S SAN PEDRO ST  \n",
       "868      restaurant           226             800    W OLYMPIC BLVD  \n",
       "4160     restaurant           226            3540     S FIGUEROA ST  \n",
       "9252     restaurant           225            6356    HOLLYWOOD BLVD  \n",
       "2057     restaurant           225             380         WORLD WAY  \n",
       "3537     restaurant           225            6721    LA TIJERA BLVD  "
      ]
     },
     "execution_count": 38,
     "metadata": {},
     "output_type": "execute_result"
    }
   ],
   "source": [
    "# Top 25 non-chain establishement name and resturant type and their number of seats \n",
    "rest_data_non_chain.sort_values(by=\"num_of_seats\",ascending=False).head(25)"
   ]
  },
  {
   "cell_type": "code",
   "execution_count": 39,
   "id": "590869bb",
   "metadata": {
    "scrolled": false
   },
   "outputs": [
    {
     "data": {
      "text/html": [
       "<div>\n",
       "<style scoped>\n",
       "    .dataframe tbody tr th:only-of-type {\n",
       "        vertical-align: middle;\n",
       "    }\n",
       "\n",
       "    .dataframe tbody tr th {\n",
       "        vertical-align: top;\n",
       "    }\n",
       "\n",
       "    .dataframe thead th {\n",
       "        text-align: right;\n",
       "    }\n",
       "</style>\n",
       "<table border=\"1\" class=\"dataframe\">\n",
       "  <thead>\n",
       "    <tr style=\"text-align: right;\">\n",
       "      <th></th>\n",
       "      <th>id</th>\n",
       "      <th>resturant_name</th>\n",
       "      <th>address</th>\n",
       "      <th>chain</th>\n",
       "      <th>resturant_type</th>\n",
       "      <th>num_of_seats</th>\n",
       "      <th>building_number</th>\n",
       "      <th>street_address</th>\n",
       "    </tr>\n",
       "  </thead>\n",
       "  <tbody>\n",
       "    <tr>\n",
       "      <th>594</th>\n",
       "      <td>12380</td>\n",
       "      <td>Kabuki Japanese Restaurant</td>\n",
       "      <td>1545 N VINE ST</td>\n",
       "      <td>chain</td>\n",
       "      <td>restaurant</td>\n",
       "      <td>229</td>\n",
       "      <td>1545</td>\n",
       "      <td>N VINE ST</td>\n",
       "    </tr>\n",
       "    <tr>\n",
       "      <th>475</th>\n",
       "      <td>12261</td>\n",
       "      <td>Mountaingate Country Club</td>\n",
       "      <td>12445 MOUNTAIN GATE DR</td>\n",
       "      <td>chain</td>\n",
       "      <td>restaurant</td>\n",
       "      <td>229</td>\n",
       "      <td>12445</td>\n",
       "      <td>MOUNTAIN GATE DR</td>\n",
       "    </tr>\n",
       "    <tr>\n",
       "      <th>7383</th>\n",
       "      <td>19169</td>\n",
       "      <td>Manna Korean Bbq</td>\n",
       "      <td>3986 WILSHIRE BLVD</td>\n",
       "      <td>chain</td>\n",
       "      <td>restaurant</td>\n",
       "      <td>229</td>\n",
       "      <td>3986</td>\n",
       "      <td>WILSHIRE BLVD</td>\n",
       "    </tr>\n",
       "    <tr>\n",
       "      <th>5478</th>\n",
       "      <td>17264</td>\n",
       "      <td>Chuck E Cheese'S</td>\n",
       "      <td>2706 WILSHIRE BLVD</td>\n",
       "      <td>chain</td>\n",
       "      <td>restaurant</td>\n",
       "      <td>228</td>\n",
       "      <td>2706</td>\n",
       "      <td>WILSHIRE BLVD</td>\n",
       "    </tr>\n",
       "    <tr>\n",
       "      <th>457</th>\n",
       "      <td>12243</td>\n",
       "      <td>Usc Main Kitchen-Basement</td>\n",
       "      <td>3607 TROUSDALE PKWY</td>\n",
       "      <td>chain</td>\n",
       "      <td>restaurant</td>\n",
       "      <td>227</td>\n",
       "      <td>3607</td>\n",
       "      <td>TROUSDALE PKWY</td>\n",
       "    </tr>\n",
       "    <tr>\n",
       "      <th>1889</th>\n",
       "      <td>13675</td>\n",
       "      <td>Mcdonald'S</td>\n",
       "      <td>341 S VERMONT AVE</td>\n",
       "      <td>chain</td>\n",
       "      <td>fast food</td>\n",
       "      <td>227</td>\n",
       "      <td>341</td>\n",
       "      <td>S VERMONT AVE</td>\n",
       "    </tr>\n",
       "    <tr>\n",
       "      <th>1064</th>\n",
       "      <td>12850</td>\n",
       "      <td>Chosun Galbee Restaurant</td>\n",
       "      <td>3330 W OLYMPIC BLVD</td>\n",
       "      <td>chain</td>\n",
       "      <td>restaurant</td>\n",
       "      <td>226</td>\n",
       "      <td>3330</td>\n",
       "      <td>W OLYMPIC BLVD</td>\n",
       "    </tr>\n",
       "    <tr>\n",
       "      <th>1612</th>\n",
       "      <td>13398</td>\n",
       "      <td>California Club-Main Kitchen</td>\n",
       "      <td>538 S FLOWER ST</td>\n",
       "      <td>chain</td>\n",
       "      <td>restaurant</td>\n",
       "      <td>225</td>\n",
       "      <td>538</td>\n",
       "      <td>S FLOWER ST</td>\n",
       "    </tr>\n",
       "    <tr>\n",
       "      <th>1928</th>\n",
       "      <td>13714</td>\n",
       "      <td>La Fonda Restaurant</td>\n",
       "      <td>2501 WILSHIRE BLVD</td>\n",
       "      <td>chain</td>\n",
       "      <td>restaurant</td>\n",
       "      <td>225</td>\n",
       "      <td>2501</td>\n",
       "      <td>WILSHIRE BLVD</td>\n",
       "    </tr>\n",
       "    <tr>\n",
       "      <th>122</th>\n",
       "      <td>11908</td>\n",
       "      <td>Trastevere Restaurant</td>\n",
       "      <td>6801 HOLLYWOOD BLVD</td>\n",
       "      <td>chain</td>\n",
       "      <td>restaurant</td>\n",
       "      <td>224</td>\n",
       "      <td>6801</td>\n",
       "      <td>HOLLYWOOD BLVD</td>\n",
       "    </tr>\n",
       "    <tr>\n",
       "      <th>9438</th>\n",
       "      <td>21224</td>\n",
       "      <td>Mezzo Garden Restaurant</td>\n",
       "      <td>2516 COLORADO BLVD</td>\n",
       "      <td>chain</td>\n",
       "      <td>restaurant</td>\n",
       "      <td>222</td>\n",
       "      <td>2516</td>\n",
       "      <td>COLORADO BLVD</td>\n",
       "    </tr>\n",
       "    <tr>\n",
       "      <th>4701</th>\n",
       "      <td>16487</td>\n",
       "      <td>Sizzler Usa Restaurant, Inc.</td>\n",
       "      <td>400 S VERMONT AVE</td>\n",
       "      <td>chain</td>\n",
       "      <td>restaurant</td>\n",
       "      <td>222</td>\n",
       "      <td>400</td>\n",
       "      <td>S VERMONT AVE</td>\n",
       "    </tr>\n",
       "    <tr>\n",
       "      <th>7351</th>\n",
       "      <td>19137</td>\n",
       "      <td>Dave &amp; Busters</td>\n",
       "      <td>6081 CENTER DR</td>\n",
       "      <td>chain</td>\n",
       "      <td>restaurant</td>\n",
       "      <td>221</td>\n",
       "      <td>6081</td>\n",
       "      <td>CENTER DR</td>\n",
       "    </tr>\n",
       "    <tr>\n",
       "      <th>1808</th>\n",
       "      <td>13594</td>\n",
       "      <td>Billingsley'S</td>\n",
       "      <td>11326 PICO BLVD</td>\n",
       "      <td>chain</td>\n",
       "      <td>restaurant</td>\n",
       "      <td>221</td>\n",
       "      <td>11326</td>\n",
       "      <td>PICO BLVD</td>\n",
       "    </tr>\n",
       "    <tr>\n",
       "      <th>1505</th>\n",
       "      <td>13291</td>\n",
       "      <td>The Counter</td>\n",
       "      <td>5779 WILSHIRE BLVD</td>\n",
       "      <td>chain</td>\n",
       "      <td>restaurant</td>\n",
       "      <td>220</td>\n",
       "      <td>5779</td>\n",
       "      <td>WILSHIRE BLVD</td>\n",
       "    </tr>\n",
       "    <tr>\n",
       "      <th>5827</th>\n",
       "      <td>17613</td>\n",
       "      <td>Souplantation</td>\n",
       "      <td>2921 LOS FELIZ BLVD</td>\n",
       "      <td>chain</td>\n",
       "      <td>restaurant</td>\n",
       "      <td>219</td>\n",
       "      <td>2921</td>\n",
       "      <td>LOS FELIZ BLVD</td>\n",
       "    </tr>\n",
       "    <tr>\n",
       "      <th>2753</th>\n",
       "      <td>14539</td>\n",
       "      <td>Carl'S Jr</td>\n",
       "      <td>5625 W CENTURY BLVD</td>\n",
       "      <td>chain</td>\n",
       "      <td>restaurant</td>\n",
       "      <td>219</td>\n",
       "      <td>5625</td>\n",
       "      <td>W CENTURY BLVD</td>\n",
       "    </tr>\n",
       "    <tr>\n",
       "      <th>5888</th>\n",
       "      <td>17674</td>\n",
       "      <td>Souplantation</td>\n",
       "      <td>11911 SAN VICENTE BLVD</td>\n",
       "      <td>chain</td>\n",
       "      <td>restaurant</td>\n",
       "      <td>218</td>\n",
       "      <td>11911</td>\n",
       "      <td>SAN VICENTE BLVD</td>\n",
       "    </tr>\n",
       "    <tr>\n",
       "      <th>2024</th>\n",
       "      <td>13810</td>\n",
       "      <td>Manna Korean Bbq</td>\n",
       "      <td>333 S ALAMEDA ST</td>\n",
       "      <td>chain</td>\n",
       "      <td>restaurant</td>\n",
       "      <td>218</td>\n",
       "      <td>333</td>\n",
       "      <td>S ALAMEDA ST</td>\n",
       "    </tr>\n",
       "    <tr>\n",
       "      <th>4020</th>\n",
       "      <td>15806</td>\n",
       "      <td>Aroma Bakery Cafe</td>\n",
       "      <td>7373 W SUNSET BLVD</td>\n",
       "      <td>chain</td>\n",
       "      <td>bakery</td>\n",
       "      <td>218</td>\n",
       "      <td>7373</td>\n",
       "      <td>W SUNSET BLVD</td>\n",
       "    </tr>\n",
       "    <tr>\n",
       "      <th>2827</th>\n",
       "      <td>14613</td>\n",
       "      <td>King Taco</td>\n",
       "      <td>4504 E 3RD ST</td>\n",
       "      <td>chain</td>\n",
       "      <td>fast food</td>\n",
       "      <td>217</td>\n",
       "      <td>4504</td>\n",
       "      <td>E 3RD ST</td>\n",
       "    </tr>\n",
       "    <tr>\n",
       "      <th>1481</th>\n",
       "      <td>13267</td>\n",
       "      <td>Weiland Brewery Restaurant 2</td>\n",
       "      <td>505 S FLOWER ST</td>\n",
       "      <td>chain</td>\n",
       "      <td>restaurant</td>\n",
       "      <td>216</td>\n",
       "      <td>505</td>\n",
       "      <td>S FLOWER ST</td>\n",
       "    </tr>\n",
       "    <tr>\n",
       "      <th>3851</th>\n",
       "      <td>15637</td>\n",
       "      <td>Buffalo Wild Wings</td>\n",
       "      <td>6081 CENTER DR</td>\n",
       "      <td>chain</td>\n",
       "      <td>restaurant</td>\n",
       "      <td>216</td>\n",
       "      <td>6081</td>\n",
       "      <td>CENTER DR</td>\n",
       "    </tr>\n",
       "    <tr>\n",
       "      <th>2309</th>\n",
       "      <td>14095</td>\n",
       "      <td>Big Wangs</td>\n",
       "      <td>801 S GRAND AVE</td>\n",
       "      <td>chain</td>\n",
       "      <td>restaurant</td>\n",
       "      <td>216</td>\n",
       "      <td>801</td>\n",
       "      <td>S GRAND AVE</td>\n",
       "    </tr>\n",
       "    <tr>\n",
       "      <th>5856</th>\n",
       "      <td>17642</td>\n",
       "      <td>Ocean Seafood Restaurant</td>\n",
       "      <td>750 N HILL ST</td>\n",
       "      <td>chain</td>\n",
       "      <td>restaurant</td>\n",
       "      <td>216</td>\n",
       "      <td>750</td>\n",
       "      <td>N HILL ST</td>\n",
       "    </tr>\n",
       "  </tbody>\n",
       "</table>\n",
       "</div>"
      ],
      "text/plain": [
       "         id                resturant_name                 address  chain  \\\n",
       "594   12380    Kabuki Japanese Restaurant          1545 N VINE ST  chain   \n",
       "475   12261     Mountaingate Country Club  12445 MOUNTAIN GATE DR  chain   \n",
       "7383  19169              Manna Korean Bbq      3986 WILSHIRE BLVD  chain   \n",
       "5478  17264             Chuck E Cheese'S       2706 WILSHIRE BLVD  chain   \n",
       "457   12243     Usc Main Kitchen-Basement     3607 TROUSDALE PKWY  chain   \n",
       "1889  13675                   Mcdonald'S        341 S VERMONT AVE  chain   \n",
       "1064  12850      Chosun Galbee Restaurant     3330 W OLYMPIC BLVD  chain   \n",
       "1612  13398  California Club-Main Kitchen         538 S FLOWER ST  chain   \n",
       "1928  13714           La Fonda Restaurant      2501 WILSHIRE BLVD  chain   \n",
       "122   11908         Trastevere Restaurant     6801 HOLLYWOOD BLVD  chain   \n",
       "9438  21224       Mezzo Garden Restaurant      2516 COLORADO BLVD  chain   \n",
       "4701  16487  Sizzler Usa Restaurant, Inc.       400 S VERMONT AVE  chain   \n",
       "7351  19137                Dave & Busters          6081 CENTER DR  chain   \n",
       "1808  13594                 Billingsley'S         11326 PICO BLVD  chain   \n",
       "1505  13291                   The Counter      5779 WILSHIRE BLVD  chain   \n",
       "5827  17613                 Souplantation     2921 LOS FELIZ BLVD  chain   \n",
       "2753  14539                    Carl'S Jr      5625 W CENTURY BLVD  chain   \n",
       "5888  17674                Souplantation   11911 SAN VICENTE BLVD  chain   \n",
       "2024  13810              Manna Korean Bbq        333 S ALAMEDA ST  chain   \n",
       "4020  15806             Aroma Bakery Cafe      7373 W SUNSET BLVD  chain   \n",
       "2827  14613                    King Taco            4504 E 3RD ST  chain   \n",
       "1481  13267  Weiland Brewery Restaurant 2         505 S FLOWER ST  chain   \n",
       "3851  15637           Buffalo Wild Wings           6081 CENTER DR  chain   \n",
       "2309  14095                     Big Wangs         801 S GRAND AVE  chain   \n",
       "5856  17642      Ocean Seafood Restaurant           750 N HILL ST  chain   \n",
       "\n",
       "     resturant_type  num_of_seats building_number    street_address  \n",
       "594      restaurant           229            1545         N VINE ST  \n",
       "475      restaurant           229           12445  MOUNTAIN GATE DR  \n",
       "7383     restaurant           229            3986     WILSHIRE BLVD  \n",
       "5478     restaurant           228            2706     WILSHIRE BLVD  \n",
       "457      restaurant           227            3607    TROUSDALE PKWY  \n",
       "1889      fast food           227             341     S VERMONT AVE  \n",
       "1064     restaurant           226            3330    W OLYMPIC BLVD  \n",
       "1612     restaurant           225             538       S FLOWER ST  \n",
       "1928     restaurant           225            2501     WILSHIRE BLVD  \n",
       "122      restaurant           224            6801    HOLLYWOOD BLVD  \n",
       "9438     restaurant           222            2516     COLORADO BLVD  \n",
       "4701     restaurant           222             400     S VERMONT AVE  \n",
       "7351     restaurant           221            6081         CENTER DR  \n",
       "1808     restaurant           221           11326         PICO BLVD  \n",
       "1505     restaurant           220            5779     WILSHIRE BLVD  \n",
       "5827     restaurant           219            2921    LOS FELIZ BLVD  \n",
       "2753     restaurant           219            5625    W CENTURY BLVD  \n",
       "5888     restaurant           218           11911  SAN VICENTE BLVD  \n",
       "2024     restaurant           218             333      S ALAMEDA ST  \n",
       "4020         bakery           218            7373     W SUNSET BLVD  \n",
       "2827      fast food           217            4504          E 3RD ST  \n",
       "1481     restaurant           216             505       S FLOWER ST  \n",
       "3851     restaurant           216            6081         CENTER DR  \n",
       "2309     restaurant           216             801       S GRAND AVE  \n",
       "5856     restaurant           216             750         N HILL ST  "
      ]
     },
     "execution_count": 39,
     "metadata": {},
     "output_type": "execute_result"
    }
   ],
   "source": [
    "#  Top 25 number of seats in chain resturant\n",
    "rest_data_chain.sort_values(by=\"num_of_seats\",ascending=False).head(25)"
   ]
  },
  {
   "cell_type": "markdown",
   "id": "e8f77bb9",
   "metadata": {},
   "source": [
    "Both chain and non-chain resturants have higher number of seats in resturant type establishment."
   ]
  },
  {
   "cell_type": "markdown",
   "id": "f6ba7ccc",
   "metadata": {},
   "source": [
    "It shows each chain resturant have an average of 1.7 branches. Average number of seats in chain resturant is close 40 whereas average number of seats in non-chain resturant is 46.\n",
    "<br>\n",
    "Thus chain resturants are higher in number and it has less number of seats."
   ]
  },
  {
   "cell_type": "code",
   "execution_count": 40,
   "id": "f92741ec",
   "metadata": {},
   "outputs": [
    {
     "name": "stdout",
     "output_type": "stream",
     "text": [
      "Average number of seats by resturant types\n"
     ]
    },
    {
     "data": {
      "text/plain": [
       "resturant_type\n",
       "bakery        21.77\n",
       "bar           44.77\n",
       "cafe          25.00\n",
       "fast food     31.84\n",
       "pizza         28.55\n",
       "restaurant    48.05\n",
       "Name: num_of_seats, dtype: float64"
      ]
     },
     "execution_count": 40,
     "metadata": {},
     "output_type": "execute_result"
    }
   ],
   "source": [
    "# average number of seats by resturant types\n",
    "print(\"Average number of seats by resturant types\")\n",
    "np.round(rest_data.groupby(\"resturant_type\")[\"num_of_seats\"].mean(),2)"
   ]
  },
  {
   "cell_type": "code",
   "execution_count": 41,
   "id": "10fd1adb",
   "metadata": {},
   "outputs": [
    {
     "data": {
      "image/png": "[encoded data removed]",
      "text/plain": [
       "<Figure size 432x288 with 1 Axes>"
      ]
     },
     "metadata": {
      "needs_background": "light"
     },
     "output_type": "display_data"
    }
   ],
   "source": [
    "# plotting average number of seats by resturant type\n",
    "sns.barplot(x=\"resturant_type\", y=\"num_of_seats\", data=rest_data)\n",
    "plt.title(\"Average Number of Seats by Resturant type\",fontsize=15)\n",
    "plt.xlabel(\"Resturant types\")\n",
    "plt.show()"
   ]
  },
  {
   "cell_type": "markdown",
   "id": "e2deeac9",
   "metadata": {},
   "source": [
    "Resturant types of establishments have the highest number of seats, 48 seats, followed by bar with about 45 seats, and fast food with\n",
    "about 32 seats."
   ]
  },
  {
   "cell_type": "code",
   "execution_count": 42,
   "id": "7472f58c",
   "metadata": {},
   "outputs": [
    {
     "data": {
      "text/html": [
       "<div>\n",
       "<style scoped>\n",
       "    .dataframe tbody tr th:only-of-type {\n",
       "        vertical-align: middle;\n",
       "    }\n",
       "\n",
       "    .dataframe tbody tr th {\n",
       "        vertical-align: top;\n",
       "    }\n",
       "\n",
       "    .dataframe thead th {\n",
       "        text-align: right;\n",
       "    }\n",
       "</style>\n",
       "<table border=\"1\" class=\"dataframe\">\n",
       "  <thead>\n",
       "    <tr style=\"text-align: right;\">\n",
       "      <th></th>\n",
       "      <th>id</th>\n",
       "    </tr>\n",
       "    <tr>\n",
       "      <th>street_address</th>\n",
       "      <th></th>\n",
       "    </tr>\n",
       "  </thead>\n",
       "  <tbody>\n",
       "    <tr>\n",
       "      <th>WILSHIRE BLVD</th>\n",
       "      <td>381</td>\n",
       "    </tr>\n",
       "    <tr>\n",
       "      <th>W SUNSET BLVD</th>\n",
       "      <td>361</td>\n",
       "    </tr>\n",
       "    <tr>\n",
       "      <th>W PICO BLVD</th>\n",
       "      <td>341</td>\n",
       "    </tr>\n",
       "    <tr>\n",
       "      <th>S WESTERN AVE</th>\n",
       "      <td>271</td>\n",
       "    </tr>\n",
       "    <tr>\n",
       "      <th>SANTA MONICA BLVD</th>\n",
       "      <td>262</td>\n",
       "    </tr>\n",
       "    <tr>\n",
       "      <th>HOLLYWOOD BLVD</th>\n",
       "      <td>242</td>\n",
       "    </tr>\n",
       "    <tr>\n",
       "      <th>W OLYMPIC BLVD</th>\n",
       "      <td>231</td>\n",
       "    </tr>\n",
       "    <tr>\n",
       "      <th>S FIGUEROA ST</th>\n",
       "      <td>227</td>\n",
       "    </tr>\n",
       "    <tr>\n",
       "      <th>W 3RD ST</th>\n",
       "      <td>225</td>\n",
       "    </tr>\n",
       "    <tr>\n",
       "      <th>W 6TH ST</th>\n",
       "      <td>213</td>\n",
       "    </tr>\n",
       "  </tbody>\n",
       "</table>\n",
       "</div>"
      ],
      "text/plain": [
       "                    id\n",
       "street_address        \n",
       "WILSHIRE BLVD      381\n",
       "W SUNSET BLVD      361\n",
       "W PICO BLVD        341\n",
       "S WESTERN AVE      271\n",
       "SANTA MONICA BLVD  262\n",
       "HOLLYWOOD BLVD     242\n",
       "W OLYMPIC BLVD     231\n",
       "S FIGUEROA ST      227\n",
       "W 3RD ST           225\n",
       "W 6TH ST           213"
      ]
     },
     "execution_count": 42,
     "metadata": {},
     "output_type": "execute_result"
    }
   ],
   "source": [
    "# top ten streets by number of restaurants.\n",
    "top_street_rest_data=pd.pivot_table(rest_data,values=\"id\",index=\"street_address\",aggfunc=\"count\").sort_values(by=\"id\",ascending=False).head(10)\n",
    "top_street_rest_data"
   ]
  },
  {
   "cell_type": "code",
   "execution_count": 43,
   "id": "f1c3949a",
   "metadata": {},
   "outputs": [
    {
     "data": {
      "image/png": "[encoded data removed]",
      "text/plain": [
       "<Figure size 1080x576 with 1 Axes>"
      ]
     },
     "metadata": {
      "needs_background": "light"
     },
     "output_type": "display_data"
    }
   ],
   "source": [
    "top_10_street=rest_data[\"street_address\"].value_counts(ascending=False).head(10)\n",
    "#sns.barplot(top_10_street)\n",
    "#plt.figure(figsize=(15,8))\n",
    "top_10_street.plot.bar(rot=30, figsize=(15, 8))\n",
    "plt.title(\"Top 10 Steets by Number of Resturant\",fontsize=15)\n",
    "plt.xlabel(\"Street Address\")\n",
    "plt.ylabel(\"Resturants count\")\n",
    "plt.show()"
   ]
  },
  {
   "cell_type": "markdown",
   "id": "4b4f8495",
   "metadata": {},
   "source": [
    "The highest number of restaurants that a street can have is 381 returants, followed by 361 resturants."
   ]
  },
  {
   "cell_type": "code",
   "execution_count": 44,
   "id": "f84d7919",
   "metadata": {},
   "outputs": [
    {
     "name": "stdout",
     "output_type": "stream",
     "text": [
      "Number of street that have only one restaurant: 362\n"
     ]
    }
   ],
   "source": [
    "# counting street that have one restaurant\n",
    "print(\"Number of street that have only one restaurant:\",rest_data[\"street_address\"].value_counts().loc[lambda x: x==1].count())"
   ]
  },
  {
   "cell_type": "code",
   "execution_count": 45,
   "id": "137d0d31",
   "metadata": {},
   "outputs": [
    {
     "data": {
      "text/plain": [
       "SHATTO PL              1\n",
       "S BROXTON AVE          1\n",
       "E 1ST BLVD             1\n",
       "S MC CLINTOCK AVE      1\n",
       "W 62ND ST              1\n",
       "                      ..\n",
       "E POMONA BLVD          1\n",
       "TOPANGA CANYON BLVD    1\n",
       "PRODUCE ROW            1\n",
       "ALBANY ST              1\n",
       "E JAPANESE VLG PLZ     1\n",
       "Name: street_address, Length: 362, dtype: int64"
      ]
     },
     "execution_count": 45,
     "metadata": {},
     "output_type": "execute_result"
    }
   ],
   "source": [
    "rest_data[\"street_address\"].value_counts().loc[lambda x: x==1]"
   ]
  },
  {
   "cell_type": "code",
   "execution_count": 46,
   "id": "2cbede1c",
   "metadata": {},
   "outputs": [
    {
     "name": "stdout",
     "output_type": "stream",
     "text": [
      "proportion of street that have only one restaurant: 0.45\n"
     ]
    }
   ],
   "source": [
    "# proportion of street that have only one resturant\n",
    "print(\"proportion of street that have only one restaurant:\",np.round(rest_data[\"street_address\"].value_counts().loc[lambda x: x==1].count()/rest_data[\"street_address\"].value_counts().count(),2))"
   ]
  },
  {
   "cell_type": "markdown",
   "id": "deeaa746",
   "metadata": {},
   "source": [
    "There are 362 streets that have only one resturant. 45 percent of the street have only one resturant"
   ]
  },
  {
   "cell_type": "code",
   "execution_count": 47,
   "id": "b965af52",
   "metadata": {},
   "outputs": [
    {
     "data": {
      "text/html": [
       "<div>\n",
       "<style scoped>\n",
       "    .dataframe tbody tr th:only-of-type {\n",
       "        vertical-align: middle;\n",
       "    }\n",
       "\n",
       "    .dataframe tbody tr th {\n",
       "        vertical-align: top;\n",
       "    }\n",
       "\n",
       "    .dataframe thead th {\n",
       "        text-align: right;\n",
       "    }\n",
       "</style>\n",
       "<table border=\"1\" class=\"dataframe\">\n",
       "  <thead>\n",
       "    <tr style=\"text-align: right;\">\n",
       "      <th></th>\n",
       "      <th>id</th>\n",
       "      <th>resturant_name</th>\n",
       "      <th>address</th>\n",
       "      <th>chain</th>\n",
       "      <th>resturant_type</th>\n",
       "      <th>num_of_seats</th>\n",
       "      <th>building_number</th>\n",
       "      <th>street_address</th>\n",
       "    </tr>\n",
       "  </thead>\n",
       "  <tbody>\n",
       "  </tbody>\n",
       "</table>\n",
       "</div>"
      ],
      "text/plain": [
       "Empty DataFrame\n",
       "Columns: [id, resturant_name, address, chain, resturant_type, num_of_seats, building_number, street_address]\n",
       "Index: []"
      ]
     },
     "execution_count": 47,
     "metadata": {},
     "output_type": "execute_result"
    }
   ],
   "source": [
    "rest_data[rest_data[\"street_address\"]==\"W sunset BLVD\"]"
   ]
  },
  {
   "cell_type": "code",
   "execution_count": 48,
   "id": "e933a8cd",
   "metadata": {},
   "outputs": [
    {
     "data": {
      "text/plain": [
       "False"
      ]
     },
     "execution_count": 48,
     "metadata": {},
     "output_type": "execute_result"
    }
   ],
   "source": [
    "# Reviewer's code\n",
    "'W sunset BLVD' in list(rest_data[\"street_address\"].value_counts().loc[lambda x: x==1].index)"
   ]
  },
  {
   "cell_type": "code",
   "execution_count": 49,
   "id": "a6a7fd4c",
   "metadata": {},
   "outputs": [
    {
     "data": {
      "text/html": [
       "<div>\n",
       "<style scoped>\n",
       "    .dataframe tbody tr th:only-of-type {\n",
       "        vertical-align: middle;\n",
       "    }\n",
       "\n",
       "    .dataframe tbody tr th {\n",
       "        vertical-align: top;\n",
       "    }\n",
       "\n",
       "    .dataframe thead th {\n",
       "        text-align: right;\n",
       "    }\n",
       "</style>\n",
       "<table border=\"1\" class=\"dataframe\">\n",
       "  <thead>\n",
       "    <tr style=\"text-align: right;\">\n",
       "      <th></th>\n",
       "      <th>id</th>\n",
       "      <th>num_of_seats</th>\n",
       "    </tr>\n",
       "    <tr>\n",
       "      <th>street_address</th>\n",
       "      <th></th>\n",
       "      <th></th>\n",
       "    </tr>\n",
       "  </thead>\n",
       "  <tbody>\n",
       "    <tr>\n",
       "      <th>WILSHIRE BLVD</th>\n",
       "      <td>381</td>\n",
       "      <td>52.540682</td>\n",
       "    </tr>\n",
       "    <tr>\n",
       "      <th>W SUNSET BLVD</th>\n",
       "      <td>361</td>\n",
       "      <td>48.700831</td>\n",
       "    </tr>\n",
       "    <tr>\n",
       "      <th>W PICO BLVD</th>\n",
       "      <td>341</td>\n",
       "      <td>39.460411</td>\n",
       "    </tr>\n",
       "    <tr>\n",
       "      <th>S WESTERN AVE</th>\n",
       "      <td>271</td>\n",
       "      <td>41.339483</td>\n",
       "    </tr>\n",
       "    <tr>\n",
       "      <th>SANTA MONICA BLVD</th>\n",
       "      <td>262</td>\n",
       "      <td>34.977099</td>\n",
       "    </tr>\n",
       "    <tr>\n",
       "      <th>HOLLYWOOD BLVD</th>\n",
       "      <td>242</td>\n",
       "      <td>56.644628</td>\n",
       "    </tr>\n",
       "    <tr>\n",
       "      <th>W OLYMPIC BLVD</th>\n",
       "      <td>231</td>\n",
       "      <td>51.203463</td>\n",
       "    </tr>\n",
       "    <tr>\n",
       "      <th>S FIGUEROA ST</th>\n",
       "      <td>227</td>\n",
       "      <td>49.127753</td>\n",
       "    </tr>\n",
       "    <tr>\n",
       "      <th>W 3RD ST</th>\n",
       "      <td>225</td>\n",
       "      <td>39.368889</td>\n",
       "    </tr>\n",
       "    <tr>\n",
       "      <th>W 6TH ST</th>\n",
       "      <td>213</td>\n",
       "      <td>40.708920</td>\n",
       "    </tr>\n",
       "    <tr>\n",
       "      <th>S VERMONT AVE</th>\n",
       "      <td>210</td>\n",
       "      <td>44.423810</td>\n",
       "    </tr>\n",
       "    <tr>\n",
       "      <th>BEVERLY BLVD</th>\n",
       "      <td>159</td>\n",
       "      <td>43.433962</td>\n",
       "    </tr>\n",
       "    <tr>\n",
       "      <th>WORLD WAY</th>\n",
       "      <td>145</td>\n",
       "      <td>51.179310</td>\n",
       "    </tr>\n",
       "    <tr>\n",
       "      <th>MELROSE AVE</th>\n",
       "      <td>143</td>\n",
       "      <td>49.909091</td>\n",
       "    </tr>\n",
       "    <tr>\n",
       "      <th>S BROADWAY</th>\n",
       "      <td>121</td>\n",
       "      <td>31.537190</td>\n",
       "    </tr>\n",
       "    <tr>\n",
       "      <th>W 8TH ST</th>\n",
       "      <td>106</td>\n",
       "      <td>45.500000</td>\n",
       "    </tr>\n",
       "    <tr>\n",
       "      <th>E 1ST ST</th>\n",
       "      <td>101</td>\n",
       "      <td>35.316832</td>\n",
       "    </tr>\n",
       "    <tr>\n",
       "      <th>S CENTRAL AVE</th>\n",
       "      <td>98</td>\n",
       "      <td>31.265306</td>\n",
       "    </tr>\n",
       "    <tr>\n",
       "      <th>N FIGUEROA ST</th>\n",
       "      <td>98</td>\n",
       "      <td>35.387755</td>\n",
       "    </tr>\n",
       "    <tr>\n",
       "      <th>W 7TH ST</th>\n",
       "      <td>98</td>\n",
       "      <td>53.683673</td>\n",
       "    </tr>\n",
       "    <tr>\n",
       "      <th>VENICE BLVD</th>\n",
       "      <td>97</td>\n",
       "      <td>32.505155</td>\n",
       "    </tr>\n",
       "    <tr>\n",
       "      <th>WESTWOOD BLVD</th>\n",
       "      <td>96</td>\n",
       "      <td>51.906250</td>\n",
       "    </tr>\n",
       "    <tr>\n",
       "      <th>N WESTERN AVE</th>\n",
       "      <td>86</td>\n",
       "      <td>43.453488</td>\n",
       "    </tr>\n",
       "    <tr>\n",
       "      <th>COLORADO BLVD</th>\n",
       "      <td>80</td>\n",
       "      <td>38.650000</td>\n",
       "    </tr>\n",
       "    <tr>\n",
       "      <th>N BROADWAY</th>\n",
       "      <td>74</td>\n",
       "      <td>40.675676</td>\n",
       "    </tr>\n",
       "  </tbody>\n",
       "</table>\n",
       "</div>"
      ],
      "text/plain": [
       "                    id  num_of_seats\n",
       "street_address                      \n",
       "WILSHIRE BLVD      381     52.540682\n",
       "W SUNSET BLVD      361     48.700831\n",
       "W PICO BLVD        341     39.460411\n",
       "S WESTERN AVE      271     41.339483\n",
       "SANTA MONICA BLVD  262     34.977099\n",
       "HOLLYWOOD BLVD     242     56.644628\n",
       "W OLYMPIC BLVD     231     51.203463\n",
       "S FIGUEROA ST      227     49.127753\n",
       "W 3RD ST           225     39.368889\n",
       "W 6TH ST           213     40.708920\n",
       "S VERMONT AVE      210     44.423810\n",
       "BEVERLY BLVD       159     43.433962\n",
       "WORLD WAY          145     51.179310\n",
       "MELROSE AVE        143     49.909091\n",
       "S BROADWAY         121     31.537190\n",
       "W 8TH ST           106     45.500000\n",
       "E 1ST ST           101     35.316832\n",
       "S CENTRAL AVE       98     31.265306\n",
       "N FIGUEROA ST       98     35.387755\n",
       "W 7TH ST            98     53.683673\n",
       "VENICE BLVD         97     32.505155\n",
       "WESTWOOD BLVD       96     51.906250\n",
       "N WESTERN AVE       86     43.453488\n",
       "COLORADO BLVD       80     38.650000\n",
       "N BROADWAY          74     40.675676"
      ]
     },
     "execution_count": 49,
     "metadata": {},
     "output_type": "execute_result"
    }
   ],
   "source": [
    "# streets with a lot of restaurants and their mean number of seats\n",
    "top_street=rest_data.groupby('street_address').agg({'id':'count','num_of_seats': np.mean})\n",
    "top_street.tail(50)\n",
    "top_street.sort_values(by=\"id\",ascending=False).head(25)"
   ]
  },
  {
   "cell_type": "code",
   "execution_count": 50,
   "id": "bbc169b8",
   "metadata": {},
   "outputs": [
    {
     "data": {
      "image/png": "[encoded data removed]",
      "text/plain": [
       "<Figure size 432x288 with 1 Axes>"
      ]
     },
     "metadata": {
      "needs_background": "light"
     },
     "output_type": "display_data"
    }
   ],
   "source": [
    "# distribution of average number of seats in top streets\n",
    "top_street.sort_values(by=\"id\",ascending=False).head(25)[\"num_of_seats\"].hist()\n",
    "plt.title(\"Distribution of Number of Seats By Streets\",fontsize=15)\n",
    "plt.xlabel(\"Average number of seats\")\n",
    "plt.ylabel(\"Number of top streets\")\n",
    "plt.show()"
   ]
  },
  {
   "cell_type": "markdown",
   "id": "b6bd182a",
   "metadata": {},
   "source": [
    "The streets that have a lot of resturants tends to have high number of seats."
   ]
  },
  {
   "cell_type": "markdown",
   "id": "5b9c87c7",
   "metadata": {},
   "source": [
    "#### Conclusion"
   ]
  },
  {
   "cell_type": "markdown",
   "id": "f6fe6fc8",
   "metadata": {},
   "source": [
    "After completing this data analysis, it is recommened to open restaurant or bar on one of the street that have only \n",
    "resturant. It is reasonable to open restaurant or bar types of establishment with seats higher than 35 seats.\n",
    "<br>\n",
    "It is recommended to open non-chain restaurant than to open chain restaurant."
   ]
  },
  {
   "cell_type": "markdown",
   "id": "168b8dee",
   "metadata": {},
   "source": [
    "Presentation: <https://drive.google.com/file/d/1qulcS4S1kACK_Pu4RdL24Mo62-BUGhfz/view?usp=sharing>"
   ]
  },
  {
   "cell_type": "code",
   "execution_count": null,
   "id": "78f9cad6",
   "metadata": {},
   "outputs": [],
   "source": []
  }
 ],
 "metadata": {
  "ExecuteTimeLog": [
   {
    "duration": 1802,
    "start_time": "2022-02-21T21:44:18.219Z"
   },
   {
    "duration": 49,
    "start_time": "2022-02-21T21:44:20.023Z"
   },
   {
    "duration": 16,
    "start_time": "2022-02-21T21:44:20.075Z"
   },
   {
    "duration": 21,
    "start_time": "2022-02-21T21:44:20.094Z"
   },
   {
    "duration": 11,
    "start_time": "2022-02-21T21:44:20.117Z"
   },
   {
    "duration": 13,
    "start_time": "2022-02-21T21:44:20.130Z"
   },
   {
    "duration": 9,
    "start_time": "2022-02-21T21:44:20.146Z"
   },
   {
    "duration": 52,
    "start_time": "2022-02-21T21:44:20.160Z"
   },
   {
    "duration": 6,
    "start_time": "2022-02-21T21:44:20.215Z"
   },
   {
    "duration": 16,
    "start_time": "2022-02-21T21:44:20.224Z"
   },
   {
    "duration": 18,
    "start_time": "2022-02-21T21:44:20.243Z"
   },
   {
    "duration": 59,
    "start_time": "2022-02-21T21:44:20.263Z"
   },
   {
    "duration": 108,
    "start_time": "2022-02-21T21:44:20.325Z"
   },
   {
    "duration": 3,
    "start_time": "2022-02-21T21:44:20.436Z"
   },
   {
    "duration": 10,
    "start_time": "2022-02-21T21:44:20.442Z"
   },
   {
    "duration": 21,
    "start_time": "2022-02-21T21:44:20.455Z"
   },
   {
    "duration": 81,
    "start_time": "2022-02-21T21:44:20.479Z"
   },
   {
    "duration": 10,
    "start_time": "2022-02-21T21:44:20.563Z"
   },
   {
    "duration": 35,
    "start_time": "2022-02-21T21:44:20.576Z"
   },
   {
    "duration": 11,
    "start_time": "2022-02-21T21:44:20.614Z"
   },
   {
    "duration": 12,
    "start_time": "2022-02-21T21:44:20.628Z"
   },
   {
    "duration": 1007,
    "start_time": "2022-02-21T21:44:20.644Z"
   },
   {
    "duration": 7,
    "start_time": "2022-02-21T21:44:21.656Z"
   },
   {
    "duration": 10,
    "start_time": "2022-02-21T21:44:21.666Z"
   },
   {
    "duration": 38,
    "start_time": "2022-02-21T21:44:21.678Z"
   },
   {
    "duration": 247,
    "start_time": "2022-02-21T21:44:21.719Z"
   },
   {
    "duration": 50,
    "start_time": "2022-02-21T21:44:21.969Z"
   },
   {
    "duration": 345,
    "start_time": "2022-02-21T21:44:22.022Z"
   },
   {
    "duration": 20,
    "start_time": "2022-02-21T21:44:22.370Z"
   },
   {
    "duration": 8,
    "start_time": "2022-02-21T21:44:22.412Z"
   },
   {
    "duration": 96,
    "start_time": "2022-02-21T21:44:22.422Z"
   },
   {
    "duration": 11,
    "start_time": "2022-02-21T21:44:22.520Z"
   },
   {
    "duration": 6,
    "start_time": "2022-02-21T21:44:22.533Z"
   },
   {
    "duration": 17,
    "start_time": "2022-02-21T21:44:22.541Z"
   },
   {
    "duration": 52,
    "start_time": "2022-02-21T21:44:22.560Z"
   },
   {
    "duration": 26,
    "start_time": "2022-02-21T21:44:22.615Z"
   },
   {
    "duration": 23,
    "start_time": "2022-02-21T21:44:22.643Z"
   },
   {
    "duration": 43,
    "start_time": "2022-02-21T21:44:22.669Z"
   },
   {
    "duration": 634,
    "start_time": "2022-02-21T21:44:22.714Z"
   },
   {
    "duration": 20,
    "start_time": "2022-02-21T21:44:23.351Z"
   },
   {
    "duration": 617,
    "start_time": "2022-02-21T21:44:23.373Z"
   },
   {
    "duration": 8,
    "start_time": "2022-02-21T21:44:23.992Z"
   },
   {
    "duration": 11,
    "start_time": "2022-02-21T21:44:24.012Z"
   },
   {
    "duration": 11,
    "start_time": "2022-02-21T21:44:24.026Z"
   },
   {
    "duration": 18,
    "start_time": "2022-02-21T21:44:24.039Z"
   },
   {
    "duration": 370,
    "start_time": "2022-02-21T21:44:24.060Z"
   },
   {
    "duration": 130,
    "start_time": "2022-02-21T21:44:24.432Z"
   },
   {
    "duration": 393,
    "start_time": "2022-02-21T22:12:13.120Z"
   },
   {
    "duration": 421,
    "start_time": "2022-02-21T22:12:30.326Z"
   },
   {
    "duration": 436,
    "start_time": "2022-02-21T22:12:57.604Z"
   },
   {
    "duration": 436,
    "start_time": "2022-02-21T22:13:06.804Z"
   },
   {
    "duration": 418,
    "start_time": "2022-02-21T22:13:22.923Z"
   },
   {
    "duration": 410,
    "start_time": "2022-02-21T22:13:40.451Z"
   },
   {
    "duration": 13,
    "start_time": "2022-02-21T23:06:46.141Z"
   },
   {
    "duration": 12,
    "start_time": "2022-02-21T23:07:38.287Z"
   },
   {
    "duration": 16,
    "start_time": "2022-02-21T23:07:43.794Z"
   },
   {
    "duration": 13,
    "start_time": "2022-02-21T23:17:30.972Z"
   },
   {
    "duration": 1515,
    "start_time": "2022-02-22T02:52:07.799Z"
   },
   {
    "duration": 38,
    "start_time": "2022-02-22T02:52:09.316Z"
   },
   {
    "duration": 17,
    "start_time": "2022-02-22T02:52:09.358Z"
   },
   {
    "duration": 12,
    "start_time": "2022-02-22T02:52:09.378Z"
   },
   {
    "duration": 10,
    "start_time": "2022-02-22T02:52:09.410Z"
   },
   {
    "duration": 14,
    "start_time": "2022-02-22T02:52:09.423Z"
   },
   {
    "duration": 10,
    "start_time": "2022-02-22T02:52:09.439Z"
   },
   {
    "duration": 9,
    "start_time": "2022-02-22T02:52:09.453Z"
   },
   {
    "duration": 49,
    "start_time": "2022-02-22T02:52:09.465Z"
   },
   {
    "duration": 17,
    "start_time": "2022-02-22T02:52:09.516Z"
   },
   {
    "duration": 14,
    "start_time": "2022-02-22T02:52:09.536Z"
   },
   {
    "duration": 12,
    "start_time": "2022-02-22T02:52:09.552Z"
   },
   {
    "duration": 118,
    "start_time": "2022-02-22T02:52:09.567Z"
   },
   {
    "duration": 3,
    "start_time": "2022-02-22T02:52:09.688Z"
   },
   {
    "duration": 19,
    "start_time": "2022-02-22T02:52:09.693Z"
   },
   {
    "duration": 17,
    "start_time": "2022-02-22T02:52:09.714Z"
   },
   {
    "duration": 42,
    "start_time": "2022-02-22T02:52:09.733Z"
   },
   {
    "duration": 36,
    "start_time": "2022-02-22T02:52:09.778Z"
   },
   {
    "duration": 6,
    "start_time": "2022-02-22T02:52:09.817Z"
   },
   {
    "duration": 10,
    "start_time": "2022-02-22T02:52:09.826Z"
   },
   {
    "duration": 13,
    "start_time": "2022-02-22T02:52:09.839Z"
   },
   {
    "duration": 414,
    "start_time": "2022-02-22T02:52:09.855Z"
   },
   {
    "duration": 418,
    "start_time": "2022-02-22T02:52:10.273Z"
   },
   {
    "duration": 7,
    "start_time": "2022-02-22T02:52:10.693Z"
   },
   {
    "duration": 14,
    "start_time": "2022-02-22T02:52:10.710Z"
   },
   {
    "duration": 11,
    "start_time": "2022-02-22T02:52:10.727Z"
   },
   {
    "duration": 264,
    "start_time": "2022-02-22T02:52:10.740Z"
   },
   {
    "duration": 9632,
    "start_time": "2022-02-22T02:52:15.899Z"
   },
   {
    "duration": 1602,
    "start_time": "2022-02-22T02:57:54.992Z"
   },
   {
    "duration": 40,
    "start_time": "2022-02-22T02:57:56.596Z"
   },
   {
    "duration": 18,
    "start_time": "2022-02-22T02:57:56.639Z"
   },
   {
    "duration": 13,
    "start_time": "2022-02-22T02:57:56.660Z"
   },
   {
    "duration": 39,
    "start_time": "2022-02-22T02:57:56.676Z"
   },
   {
    "duration": 25,
    "start_time": "2022-02-22T02:57:56.718Z"
   },
   {
    "duration": 16,
    "start_time": "2022-02-22T02:57:56.745Z"
   },
   {
    "duration": 10,
    "start_time": "2022-02-22T02:57:56.763Z"
   },
   {
    "duration": 6,
    "start_time": "2022-02-22T02:57:56.778Z"
   },
   {
    "duration": 18,
    "start_time": "2022-02-22T02:57:56.811Z"
   },
   {
    "duration": 21,
    "start_time": "2022-02-22T02:57:56.832Z"
   },
   {
    "duration": 13,
    "start_time": "2022-02-22T02:57:56.855Z"
   },
   {
    "duration": 111,
    "start_time": "2022-02-22T02:57:56.870Z"
   },
   {
    "duration": 3,
    "start_time": "2022-02-22T02:57:56.984Z"
   },
   {
    "duration": 22,
    "start_time": "2022-02-22T02:57:56.989Z"
   },
   {
    "duration": 29,
    "start_time": "2022-02-22T02:57:57.014Z"
   },
   {
    "duration": 42,
    "start_time": "2022-02-22T02:57:57.046Z"
   },
   {
    "duration": 23,
    "start_time": "2022-02-22T02:57:57.091Z"
   },
   {
    "duration": 5,
    "start_time": "2022-02-22T02:57:57.116Z"
   },
   {
    "duration": 10,
    "start_time": "2022-02-22T02:57:57.124Z"
   },
   {
    "duration": 18,
    "start_time": "2022-02-22T02:57:57.137Z"
   },
   {
    "duration": 315,
    "start_time": "2022-02-22T02:57:57.158Z"
   },
   {
    "duration": 424,
    "start_time": "2022-02-22T02:57:57.475Z"
   },
   {
    "duration": 12,
    "start_time": "2022-02-22T02:57:57.901Z"
   },
   {
    "duration": 17,
    "start_time": "2022-02-22T02:57:57.915Z"
   },
   {
    "duration": 11,
    "start_time": "2022-02-22T02:57:57.934Z"
   },
   {
    "duration": 262,
    "start_time": "2022-02-22T02:57:57.951Z"
   },
   {
    "duration": 1591,
    "start_time": "2022-02-22T02:58:02.884Z"
   },
   {
    "duration": 63104,
    "start_time": "2022-02-22T03:01:43.968Z"
   },
   {
    "duration": 124,
    "start_time": "2022-02-22T03:11:05.420Z"
   },
   {
    "duration": 266,
    "start_time": "2022-02-22T03:12:30.620Z"
   },
   {
    "duration": 270,
    "start_time": "2022-02-22T03:12:45.512Z"
   },
   {
    "duration": 256,
    "start_time": "2022-02-22T03:12:54.678Z"
   },
   {
    "duration": 262,
    "start_time": "2022-02-22T03:13:14.055Z"
   },
   {
    "duration": 11,
    "start_time": "2022-02-22T03:14:48.737Z"
   },
   {
    "duration": 11,
    "start_time": "2022-02-22T03:15:41.208Z"
   },
   {
    "duration": 11,
    "start_time": "2022-02-22T03:15:58.656Z"
   },
   {
    "duration": 19,
    "start_time": "2022-02-22T03:16:53.056Z"
   },
   {
    "duration": 23,
    "start_time": "2022-02-22T03:23:34.015Z"
   },
   {
    "duration": 4,
    "start_time": "2022-02-22T03:24:02.570Z"
   },
   {
    "duration": 163,
    "start_time": "2022-02-22T03:24:02.578Z"
   },
   {
    "duration": 13,
    "start_time": "2022-02-22T03:24:02.745Z"
   },
   {
    "duration": 13,
    "start_time": "2022-02-22T03:24:02.762Z"
   },
   {
    "duration": 32,
    "start_time": "2022-02-22T03:24:02.778Z"
   },
   {
    "duration": 14,
    "start_time": "2022-02-22T03:24:02.813Z"
   },
   {
    "duration": 9,
    "start_time": "2022-02-22T03:24:02.829Z"
   },
   {
    "duration": 10,
    "start_time": "2022-02-22T03:24:02.840Z"
   },
   {
    "duration": 6,
    "start_time": "2022-02-22T03:24:02.854Z"
   },
   {
    "duration": 64,
    "start_time": "2022-02-22T03:24:02.863Z"
   },
   {
    "duration": 16,
    "start_time": "2022-02-22T03:24:02.929Z"
   },
   {
    "duration": 13,
    "start_time": "2022-02-22T03:24:02.948Z"
   },
   {
    "duration": 111,
    "start_time": "2022-02-22T03:24:02.963Z"
   },
   {
    "duration": 3,
    "start_time": "2022-02-22T03:24:03.076Z"
   },
   {
    "duration": 10,
    "start_time": "2022-02-22T03:24:03.082Z"
   },
   {
    "duration": 27,
    "start_time": "2022-02-22T03:24:03.095Z"
   },
   {
    "duration": 42,
    "start_time": "2022-02-22T03:24:03.124Z"
   },
   {
    "duration": 7,
    "start_time": "2022-02-22T03:24:03.169Z"
   },
   {
    "duration": 36,
    "start_time": "2022-02-22T03:24:03.179Z"
   },
   {
    "duration": 12,
    "start_time": "2022-02-22T03:24:03.217Z"
   },
   {
    "duration": 13,
    "start_time": "2022-02-22T03:24:03.232Z"
   },
   {
    "duration": 297,
    "start_time": "2022-02-22T03:24:03.247Z"
   },
   {
    "duration": 410,
    "start_time": "2022-02-22T03:24:03.546Z"
   },
   {
    "duration": 7,
    "start_time": "2022-02-22T03:24:03.959Z"
   },
   {
    "duration": 10,
    "start_time": "2022-02-22T03:24:03.969Z"
   },
   {
    "duration": 33,
    "start_time": "2022-02-22T03:24:03.982Z"
   },
   {
    "duration": 242,
    "start_time": "2022-02-22T03:24:04.021Z"
   },
   {
    "duration": 130,
    "start_time": "2022-02-22T03:24:04.265Z"
   },
   {
    "duration": 45,
    "start_time": "2022-02-22T03:24:04.397Z"
   },
   {
    "duration": 300,
    "start_time": "2022-02-22T03:24:04.444Z"
   },
   {
    "duration": 14,
    "start_time": "2022-02-22T03:24:04.746Z"
   },
   {
    "duration": 7,
    "start_time": "2022-02-22T03:24:04.762Z"
   },
   {
    "duration": 45,
    "start_time": "2022-02-22T03:24:04.771Z"
   },
   {
    "duration": 10,
    "start_time": "2022-02-22T03:24:04.818Z"
   },
   {
    "duration": 4,
    "start_time": "2022-02-22T03:24:04.831Z"
   },
   {
    "duration": 17,
    "start_time": "2022-02-22T03:24:04.837Z"
   },
   {
    "duration": 7,
    "start_time": "2022-02-22T03:24:04.856Z"
   },
   {
    "duration": 62,
    "start_time": "2022-02-22T03:24:04.865Z"
   },
   {
    "duration": 24,
    "start_time": "2022-02-22T03:24:04.929Z"
   },
   {
    "duration": 13,
    "start_time": "2022-02-22T03:24:04.956Z"
   },
   {
    "duration": 706,
    "start_time": "2022-02-22T03:24:05.012Z"
   },
   {
    "duration": 23,
    "start_time": "2022-02-22T03:24:05.721Z"
   },
   {
    "duration": 512,
    "start_time": "2022-02-22T03:24:05.747Z"
   },
   {
    "duration": 10,
    "start_time": "2022-02-22T03:24:06.262Z"
   },
   {
    "duration": 14,
    "start_time": "2022-02-22T03:24:06.274Z"
   },
   {
    "duration": 14,
    "start_time": "2022-02-22T03:24:06.311Z"
   },
   {
    "duration": 14,
    "start_time": "2022-02-22T03:24:13.205Z"
   },
   {
    "duration": 11,
    "start_time": "2022-02-22T03:24:22.457Z"
   },
   {
    "duration": 15,
    "start_time": "2022-02-22T03:25:33.185Z"
   },
   {
    "duration": 385,
    "start_time": "2022-02-22T04:07:42.804Z"
   },
   {
    "duration": 404,
    "start_time": "2022-02-22T04:08:22.795Z"
   },
   {
    "duration": 386,
    "start_time": "2022-02-22T04:16:08.631Z"
   },
   {
    "duration": 6,
    "start_time": "2022-02-22T04:16:18.025Z"
   },
   {
    "duration": 5,
    "start_time": "2022-02-22T04:16:37.038Z"
   },
   {
    "duration": 624,
    "start_time": "2022-02-22T04:21:12.165Z"
   },
   {
    "duration": 618,
    "start_time": "2022-02-22T04:21:28.342Z"
   },
   {
    "duration": 428,
    "start_time": "2022-02-22T04:21:35.541Z"
   },
   {
    "duration": 483,
    "start_time": "2022-02-22T04:24:30.553Z"
   },
   {
    "duration": 4,
    "start_time": "2022-02-22T04:24:59.660Z"
   },
   {
    "duration": 37,
    "start_time": "2022-02-22T04:24:59.667Z"
   },
   {
    "duration": 12,
    "start_time": "2022-02-22T04:24:59.707Z"
   },
   {
    "duration": 10,
    "start_time": "2022-02-22T04:24:59.722Z"
   },
   {
    "duration": 11,
    "start_time": "2022-02-22T04:24:59.736Z"
   },
   {
    "duration": 67,
    "start_time": "2022-02-22T04:24:59.750Z"
   },
   {
    "duration": 9,
    "start_time": "2022-02-22T04:24:59.820Z"
   },
   {
    "duration": 10,
    "start_time": "2022-02-22T04:24:59.832Z"
   },
   {
    "duration": 8,
    "start_time": "2022-02-22T04:24:59.848Z"
   },
   {
    "duration": 63,
    "start_time": "2022-02-22T04:24:59.860Z"
   },
   {
    "duration": 15,
    "start_time": "2022-02-22T04:24:59.926Z"
   },
   {
    "duration": 13,
    "start_time": "2022-02-22T04:24:59.943Z"
   },
   {
    "duration": 112,
    "start_time": "2022-02-22T04:24:59.959Z"
   },
   {
    "duration": 3,
    "start_time": "2022-02-22T04:25:00.074Z"
   },
   {
    "duration": 9,
    "start_time": "2022-02-22T04:25:00.079Z"
   },
   {
    "duration": 29,
    "start_time": "2022-02-22T04:25:00.090Z"
   },
   {
    "duration": 48,
    "start_time": "2022-02-22T04:25:00.121Z"
   },
   {
    "duration": 15,
    "start_time": "2022-02-22T04:25:00.172Z"
   },
   {
    "duration": 7,
    "start_time": "2022-02-22T04:25:00.210Z"
   },
   {
    "duration": 25,
    "start_time": "2022-02-22T04:25:00.219Z"
   },
   {
    "duration": 23,
    "start_time": "2022-02-22T04:25:00.247Z"
   },
   {
    "duration": 289,
    "start_time": "2022-02-22T04:25:00.272Z"
   },
   {
    "duration": 423,
    "start_time": "2022-02-22T04:25:00.564Z"
   },
   {
    "duration": 6,
    "start_time": "2022-02-22T04:25:00.989Z"
   },
   {
    "duration": 22,
    "start_time": "2022-02-22T04:25:00.997Z"
   },
   {
    "duration": 13,
    "start_time": "2022-02-22T04:25:01.021Z"
   },
   {
    "duration": 251,
    "start_time": "2022-02-22T04:25:01.039Z"
   },
   {
    "duration": 138,
    "start_time": "2022-02-22T04:25:01.293Z"
   },
   {
    "duration": 32,
    "start_time": "2022-02-22T04:25:01.434Z"
   },
   {
    "duration": 327,
    "start_time": "2022-02-22T04:25:01.468Z"
   },
   {
    "duration": 23,
    "start_time": "2022-02-22T04:25:01.797Z"
   },
   {
    "duration": 11,
    "start_time": "2022-02-22T04:25:01.822Z"
   },
   {
    "duration": 15,
    "start_time": "2022-02-22T04:25:01.835Z"
   },
   {
    "duration": 18,
    "start_time": "2022-02-22T04:25:01.852Z"
   },
   {
    "duration": 38,
    "start_time": "2022-02-22T04:25:01.873Z"
   },
   {
    "duration": 25,
    "start_time": "2022-02-22T04:25:01.914Z"
   },
   {
    "duration": 21,
    "start_time": "2022-02-22T04:25:01.941Z"
   },
   {
    "duration": 32,
    "start_time": "2022-02-22T04:25:01.964Z"
   },
   {
    "duration": 33,
    "start_time": "2022-02-22T04:25:01.998Z"
   },
   {
    "duration": 11,
    "start_time": "2022-02-22T04:25:02.033Z"
   },
   {
    "duration": 727,
    "start_time": "2022-02-22T04:25:02.047Z"
   },
   {
    "duration": 39,
    "start_time": "2022-02-22T04:25:02.777Z"
   },
   {
    "duration": 497,
    "start_time": "2022-02-22T04:25:02.819Z"
   },
   {
    "duration": 10,
    "start_time": "2022-02-22T04:25:03.320Z"
   },
   {
    "duration": 13,
    "start_time": "2022-02-22T04:25:03.333Z"
   },
   {
    "duration": 16,
    "start_time": "2022-02-22T04:25:03.349Z"
   },
   {
    "duration": 51,
    "start_time": "2022-02-22T04:25:03.367Z"
   },
   {
    "duration": 14,
    "start_time": "2022-02-22T04:25:03.421Z"
   },
   {
    "duration": 22,
    "start_time": "2022-02-22T04:25:03.437Z"
   },
   {
    "duration": 708,
    "start_time": "2022-02-22T04:25:03.461Z"
   },
   {
    "duration": 307,
    "start_time": "2022-02-22T04:26:08.645Z"
   },
   {
    "duration": 306,
    "start_time": "2022-02-22T04:26:16.464Z"
   },
   {
    "duration": 679,
    "start_time": "2022-02-22T04:26:36.334Z"
   },
   {
    "duration": 496,
    "start_time": "2022-02-22T04:26:51.377Z"
   },
   {
    "duration": 296,
    "start_time": "2022-02-22T04:27:09.047Z"
   },
   {
    "duration": 582,
    "start_time": "2022-02-22T12:48:50.446Z"
   }
  ],
  "kernelspec": {
   "display_name": "Python 3 (ipykernel)",
   "language": "python",
   "name": "python3"
  },
  "language_info": {
   "codemirror_mode": {
    "name": "ipython",
    "version": 3
   },
   "file_extension": ".py",
   "mimetype": "text/x-python",
   "name": "python",
   "nbconvert_exporter": "python",
   "pygments_lexer": "ipython3",
   "version": "3.10.9"
  },
  "toc": {
   "base_numbering": 1,
   "nav_menu": {},
   "number_sections": true,
   "sideBar": true,
   "skip_h1_title": true,
   "title_cell": "Table of Contents",
   "title_sidebar": "Contents",
   "toc_cell": false,
   "toc_position": {},
   "toc_section_display": true,
   "toc_window_display": true
  }
 },
 "nbformat": 4,
 "nbformat_minor": 5
}
